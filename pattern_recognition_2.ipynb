{
  "cells": [
    {
      "cell_type": "markdown",
      "id": "4023bfc6-22aa-4545-8c19-48b4ae101a3b",
      "metadata": {
        "id": "4023bfc6-22aa-4545-8c19-48b4ae101a3b"
      },
      "source": [
        "# 深度學習 - 樣形識別"
      ]
    },
    {
      "cell_type": "code",
      "execution_count": 40,
      "id": "fe262b16-1ad9-4057-8abf-188f9f0ed3dc",
      "metadata": {
        "id": "fe262b16-1ad9-4057-8abf-188f9f0ed3dc"
      },
      "outputs": [],
      "source": [
        "import numpy as np\n",
        "import tensorflow as tf\n",
        "import tensorflow.keras as keras"
      ]
    },
    {
      "cell_type": "code",
      "execution_count": 41,
      "id": "c5f9aa07-85d8-47f3-a8a9-edd2264ea3fb",
      "metadata": {
        "id": "c5f9aa07-85d8-47f3-a8a9-edd2264ea3fb"
      },
      "outputs": [],
      "source": [
        "(xr,yr), (xt,yt)= keras.datasets.mnist.load_data()"
      ]
    },
    {
      "cell_type": "code",
      "execution_count": 42,
      "id": "8c5713fc-00c8-4659-8831-21ba3832f17e",
      "metadata": {
        "colab": {
          "base_uri": "https://localhost:8080/"
        },
        "id": "8c5713fc-00c8-4659-8831-21ba3832f17e",
        "outputId": "0d4edfc8-c7a5-4616-9597-3cd11d5ecac2"
      },
      "outputs": [
        {
          "output_type": "execute_result",
          "data": {
            "text/plain": [
              "((60000, 28, 28), (60000,), (10000, 28, 28), (10000,))"
            ]
          },
          "metadata": {},
          "execution_count": 42
        }
      ],
      "source": [
        "xr.shape, yr.shape, xt.shape, yt.shape"
      ]
    },
    {
      "cell_type": "code",
      "execution_count": 43,
      "id": "66533075-600c-49d1-9a29-4f3e5d8d7b03",
      "metadata": {
        "colab": {
          "base_uri": "https://localhost:8080/"
        },
        "id": "66533075-600c-49d1-9a29-4f3e5d8d7b03",
        "outputId": "58906f93-48b2-4056-ef9e-cfb92260aace"
      },
      "outputs": [
        {
          "output_type": "stream",
          "name": "stdout",
          "text": [
            "  0  0  0  0  0  0  0  0  0  0  0  0  0  0  0  0  0  0  0  0  0  0  0  0  0  0  0  0\n",
            "  0  0  0  0  0  0  0  0  0  0  0  0  0  0  0  0  0  0  0  0  0  0  0  0  0  0  0  0\n",
            "  0  0  0  0  0  0  0  0  0  0  0  0  0  0  0  0  0  0  0  0  0  0  0  0  0  0  0  0\n",
            "  0  0  0  0  0  0  0  0  0  0  0  0  0  0  0  0  0  0  0  0  0  0  0  0  0  0  0  0\n",
            "  0  0  0  0  0  0  0  0  0  0  0  0  0  0  0  0  0  0  0  0  0  0  0  0  0  0  0  0\n",
            "  0  0  0  0  0  0  0  0  0  0  0  0  0  0  0  0  0  0  0 11203229 32  0  0  0  0  0\n",
            "  0  0  0  0  0  0  0  0  0  0  0  0  0  0  0 26 47 47 30 95254215 13  0  0  0  0  0\n",
            "  0  0  0  0  0  0  0  0  0  0  0 45154185185223253253133175255188 19  0  0  0  0  0\n",
            "  0  0  0  0  0  0  0  0  0  0  0110253253253246161228253253254 92  0  0  0  0  0  0\n",
            "  0  0  0  0  0  0  0  0  0  0128245253158137 21  0 48233253233  8  0  0  0  0  0  0\n",
            "  0  0  0  0  0  0  0  0  0  0139254223 25  0  0 36170254244106  0  0  0  0  0  0  0\n",
            "  0  0  0  0  0  0  0  0  0  0 55212253161 11 26178253236113  0  0  0  0  0  0  0  0\n",
            "  0  0  0  0  0  0  0  0  0  0  7155253228 80223253253109  0  0  0  0  0  0  0  0  0\n",
            "  0  0  0  0  0  0  0  0  0  0  0141253253253254253154 29  0  0  0  0  0  0  0  0  0\n",
            "  0  0  0  0  0  0  0  0  0  0  0110253253253254179 38  0  0  0  0  0  0  0  0  0  0\n",
            "  0  0  0  0  0  0  0  0  0  0  3171254254254179  0  0  0  0  0  0  0  0  0  0  0  0\n",
            "  0  0  0  0  0  0  0  0  0  0171253253253253178  0  0  0  0  0  0  0  0  0  0  0  0\n",
            "  0  0  0  0  0  0  0  0 26123254253203156253200  0  0  0  0  0  0  0  0  0  0  0  0\n",
            "  0  0  0  0  0  0  0  0 93253254121 13 93253158  0  0  0  0  0  0  0  0  0  0  0  0\n",
            "  0  0  0  0  0  0  0 64239253 76  8 32219253126  0  0  0  0  0  0  0  0  0  0  0  0\n",
            "  0  0  0  0  0  0  0133254191  0  5108234254106  0  0  0  0  0  0  0  0  0  0  0  0\n",
            "  0  0  0  0  0  0  0132253190  5 85253236154  0  0  0  0  0  0  0  0  0  0  0  0  0\n",
            "  0  0  0  0  0  0  0153253169192253253 77  0  0  0  0  0  0  0  0  0  0  0  0  0  0\n",
            "  0  0  0  0  0  0  0112253253254236129  9  0  0  0  0  0  0  0  0  0  0  0  0  0  0\n",
            "  0  0  0  0  0  0  0 17118243191113  0  0  0  0  0  0  0  0  0  0  0  0  0  0  0  0\n",
            "  0  0  0  0  0  0  0  0  0  0  0  0  0  0  0  0  0  0  0  0  0  0  0  0  0  0  0  0\n",
            "  0  0  0  0  0  0  0  0  0  0  0  0  0  0  0  0  0  0  0  0  0  0  0  0  0  0  0  0\n",
            "  0  0  0  0  0  0  0  0  0  0  0  0  0  0  0  0  0  0  0  0  0  0  0  0  0  0  0  0\n"
          ]
        }
      ],
      "source": [
        "x= xr[17]\n",
        "#%%\n",
        "for i in range(28):\n",
        "    for j in range(28):\n",
        "        z= x[i,j]\n",
        "        print(f'{z:3d}', end='')\n",
        "    print()"
      ]
    },
    {
      "cell_type": "code",
      "execution_count": 44,
      "id": "0c746e80-cd34-424c-b622-010923ce355a",
      "metadata": {
        "colab": {
          "base_uri": "https://localhost:8080/",
          "height": 282
        },
        "id": "0c746e80-cd34-424c-b622-010923ce355a",
        "outputId": "0313c97f-6cbf-4dcc-b8f7-c9e87cb487c0"
      },
      "outputs": [
        {
          "output_type": "execute_result",
          "data": {
            "text/plain": [
              "<matplotlib.image.AxesImage at 0x7fb6ab950f50>"
            ]
          },
          "metadata": {},
          "execution_count": 44
        },
        {
          "output_type": "display_data",
          "data": {
            "text/plain": [
              "<Figure size 432x288 with 1 Axes>"
            ],
            "image/png": "[encoded data removed]"
          },
          "metadata": {
            "needs_background": "light"
          }
        }
      ],
      "source": [
        "import matplotlib.pyplot as pl\n",
        "pl.imshow(x)"
      ]
    },
    {
      "cell_type": "code",
      "execution_count": 45,
      "id": "7ad94416-53ca-4b00-96b6-936e8fe43f25",
      "metadata": {
        "id": "7ad94416-53ca-4b00-96b6-936e8fe43f25"
      },
      "outputs": [],
      "source": [
        "xr1= xr.reshape(-1, 28*28) \n",
        "xt1= xt.reshape(-1, 28*28) "
      ]
    },
    {
      "cell_type": "code",
      "execution_count": 46,
      "id": "5c3bc9ff-8e3c-47ce-9061-ebf2f147c207",
      "metadata": {
        "id": "5c3bc9ff-8e3c-47ce-9061-ebf2f147c207"
      },
      "outputs": [],
      "source": [
        "aModel= keras.Sequential([\n",
        "    keras.Input(28*28),\n",
        "    keras.layers.Dense(100),    \n",
        "    keras.layers.Dense(10)   \n",
        "    ])\n",
        "\n",
        "aModel.compile(\n",
        "    loss=     'sparse_categorical_crossentropy',\n",
        "    metrics= ['accuracy']\n",
        "    )"
      ]
    },
    {
      "cell_type": "code",
      "execution_count": 47,
      "id": "089bbcac-dbda-45ce-bd12-6b5608bb8904",
      "metadata": {
        "colab": {
          "base_uri": "https://localhost:8080/",
          "height": 533
        },
        "id": "089bbcac-dbda-45ce-bd12-6b5608bb8904",
        "outputId": "76afea9e-7058-466e-f18a-5a72db5362bf"
      },
      "outputs": [
        {
          "output_type": "stream",
          "name": "stdout",
          "text": [
            "Model: \"sequential\"\n",
            "_________________________________________________________________\n",
            " Layer (type)                Output Shape              Param #   \n",
            "=================================================================\n",
            " dense (Dense)               (None, 100)               78500     \n",
            "                                                                 \n",
            " dense_1 (Dense)             (None, 10)                1010      \n",
            "                                                                 \n",
            "=================================================================\n",
            "Total params: 79,510\n",
            "Trainable params: 79,510\n",
            "Non-trainable params: 0\n",
            "_________________________________________________________________\n"
          ]
        },
        {
          "output_type": "execute_result",
          "data": {
            "image/png": "[encoded data removed]",
            "text/plain": [
              "<IPython.core.display.Image object>"
            ]
          },
          "metadata": {},
          "execution_count": 47
        }
      ],
      "source": [
        "aModel.summary()\n",
        "\n",
        "keras.utils.plot_model(aModel, \n",
        "    show_shapes= True, \n",
        "    show_layer_activations= True)"
      ]
    },
    {
      "cell_type": "code",
      "execution_count": 62,
      "id": "97b0333d-21ee-4392-911d-24d462fe67fd",
      "metadata": {
        "colab": {
          "base_uri": "https://localhost:8080/"
        },
        "id": "97b0333d-21ee-4392-911d-24d462fe67fd",
        "outputId": "573562d8-7cb7-474a-8c49-1bae465173cc"
      },
      "outputs": [
        {
          "output_type": "stream",
          "name": "stdout",
          "text": [
            "Epoch 1/20\n",
            "469/469 [==============================] - 2s 4ms/step - loss: 0.5691 - accuracy: 0.8653\n",
            "Epoch 2/20\n",
            "469/469 [==============================] - 2s 4ms/step - loss: 0.2625 - accuracy: 0.9249\n",
            "Epoch 3/20\n",
            "469/469 [==============================] - 2s 4ms/step - loss: 0.2106 - accuracy: 0.9400\n",
            "Epoch 4/20\n",
            "469/469 [==============================] - 2s 4ms/step - loss: 0.1774 - accuracy: 0.9498\n",
            "Epoch 5/20\n",
            "469/469 [==============================] - 2s 4ms/step - loss: 0.1540 - accuracy: 0.9560\n",
            "Epoch 6/20\n",
            "469/469 [==============================] - 2s 4ms/step - loss: 0.1359 - accuracy: 0.9613\n",
            "Epoch 7/20\n",
            "469/469 [==============================] - 2s 4ms/step - loss: 0.1218 - accuracy: 0.9651\n",
            "Epoch 8/20\n",
            "469/469 [==============================] - 2s 4ms/step - loss: 0.1097 - accuracy: 0.9686\n",
            "Epoch 9/20\n",
            "469/469 [==============================] - 2s 4ms/step - loss: 0.0997 - accuracy: 0.9720\n",
            "Epoch 10/20\n",
            "469/469 [==============================] - 2s 4ms/step - loss: 0.0911 - accuracy: 0.9745\n",
            "Epoch 11/20\n",
            "469/469 [==============================] - 2s 4ms/step - loss: 0.0838 - accuracy: 0.9765\n",
            "Epoch 12/20\n",
            "469/469 [==============================] - 2s 4ms/step - loss: 0.0772 - accuracy: 0.9786\n",
            "Epoch 13/20\n",
            "469/469 [==============================] - 2s 4ms/step - loss: 0.0716 - accuracy: 0.9803\n",
            "Epoch 14/20\n",
            "469/469 [==============================] - 2s 3ms/step - loss: 0.0664 - accuracy: 0.9815\n",
            "Epoch 15/20\n",
            "469/469 [==============================] - 2s 4ms/step - loss: 0.0617 - accuracy: 0.9833\n",
            "Epoch 16/20\n",
            "469/469 [==============================] - 2s 4ms/step - loss: 0.0574 - accuracy: 0.9840\n",
            "Epoch 17/20\n",
            "469/469 [==============================] - 2s 4ms/step - loss: 0.0535 - accuracy: 0.9851\n",
            "Epoch 18/20\n",
            "469/469 [==============================] - 2s 4ms/step - loss: 0.0501 - accuracy: 0.9866\n",
            "Epoch 19/20\n",
            "469/469 [==============================] - 2s 3ms/step - loss: 0.0469 - accuracy: 0.9874\n",
            "Epoch 20/20\n",
            "469/469 [==============================] - 2s 4ms/step - loss: 0.0442 - accuracy: 0.9879\n",
            "313/313 [==============================] - 1s 2ms/step - loss: 0.0777 - accuracy: 0.9761\n"
          ]
        },
        {
          "output_type": "execute_result",
          "data": {
            "text/plain": [
              "[0.0776667520403862, 0.9761000275611877]"
            ]
          },
          "metadata": {},
          "execution_count": 62
        }
      ],
      "source": [
        "aModel= keras.Sequential([\n",
        "    keras.Input(28*28),\n",
        "    keras.layers.Dense(100, activation= 'sigmoid'),    \n",
        "    keras.layers.Dense(10,  activation= 'sigmoid')\n",
        "    ])\n",
        "\n",
        "aModel.compile(\n",
        "    loss=     'sparse_categorical_crossentropy',\n",
        "    metrics= ['accuracy']\n",
        "    )\n",
        "\n",
        "aModel.fit(xr1, yr, \n",
        "           epochs= 20, \n",
        "           batch_size= 128)\n",
        "\n",
        "aModel.evaluate(xt1, yt)"
      ]
    }
  ],
  "metadata": {
    "kernelspec": {
      "display_name": "Python 3 (ipykernel)",
      "language": "python",
      "name": "python3"
    },
    "language_info": {
      "codemirror_mode": {
        "name": "ipython",
        "version": 3
      },
      "file_extension": ".py",
      "mimetype": "text/x-python",
      "name": "python",
      "nbconvert_exporter": "python",
      "pygments_lexer": "ipython3",
      "version": "3.9.12"
    },
    "colab": {
      "provenance": []
    }
  },
  "nbformat": 4,
  "nbformat_minor": 5
}