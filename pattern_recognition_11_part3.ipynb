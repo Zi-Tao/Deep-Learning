{
  "cells": [
    {
      "attachments": {},
      "cell_type": "markdown",
      "metadata": {
        "id": "F863MJfrKdrz"
      },
      "source": [
        "## 深度學習 - 樣形識別11 part3"
      ]
    },
    {
      "cell_type": "markdown",
      "metadata": {
        "id": "wfzZmOEnKdr0"
      },
      "source": [
        "### The Transformer encoder"
      ]
    },
    {
      "cell_type": "markdown",
      "metadata": {
        "id": "kI2JrgnJKdr0"
      },
      "source": [
        "**Getting the data**"
      ]
    },
    {
      "cell_type": "code",
      "execution_count": 1,
      "metadata": {
        "colab": {
          "base_uri": "https://localhost:8080/"
        },
        "id": "WCye7654Kdr0",
        "outputId": "a368a177-0053-4111-e260-fe57f1a076ad"
      },
      "outputs": [
        {
          "name": "stdout",
          "output_type": "stream",
          "text": [
            "  % Total    % Received % Xferd  Average Speed   Time    Time     Time  Current\n",
            "                                 Dload  Upload   Total   Spent    Left  Speed\n",
            "100 80.2M  100 80.2M    0     0  31.9M      0  0:00:02  0:00:02 --:--:-- 31.9M\n"
          ]
        }
      ],
      "source": [
        "!curl -O https://ai.stanford.edu/~amaas/data/sentiment/aclImdb_v1.tar.gz\n",
        "!tar -xf aclImdb_v1.tar.gz\n",
        "!rm -r aclImdb/train/unsup"
      ]
    },
    {
      "cell_type": "markdown",
      "metadata": {
        "id": "V3d_wAEbKdr1"
      },
      "source": [
        "**Preparing the data**"
      ]
    },
    {
      "cell_type": "code",
      "execution_count": 2,
      "metadata": {
        "colab": {
          "base_uri": "https://localhost:8080/"
        },
        "id": "VoAy1Qa1Kdr2",
        "outputId": "ad29b772-3380-44ae-e0fd-b834b706fe8d"
      },
      "outputs": [
        {
          "name": "stdout",
          "output_type": "stream",
          "text": [
            "Found 20000 files belonging to 2 classes.\n",
            "Found 5000 files belonging to 2 classes.\n",
            "Found 25000 files belonging to 2 classes.\n"
          ]
        }
      ],
      "source": [
        "import os, pathlib, shutil, random\n",
        "from tensorflow import keras\n",
        "batch_size = 32\n",
        "base_dir = pathlib.Path(\"aclImdb\")\n",
        "val_dir = base_dir / \"val\"\n",
        "train_dir = base_dir / \"train\"\n",
        "for category in (\"neg\", \"pos\"):\n",
        "    os.makedirs(val_dir / category)\n",
        "    files = os.listdir(train_dir / category)\n",
        "    random.Random(1337).shuffle(files)\n",
        "    num_val_samples = int(0.2 * len(files))\n",
        "    val_files = files[-num_val_samples:]\n",
        "    for fname in val_files:\n",
        "        shutil.move(train_dir / category / fname,\n",
        "                    val_dir / category / fname)\n",
        "\n",
        "train_ds = keras.utils.text_dataset_from_directory(\n",
        "    \"aclImdb/train\", batch_size=batch_size\n",
        ")\n",
        "val_ds = keras.utils.text_dataset_from_directory(\n",
        "    \"aclImdb/val\", batch_size=batch_size\n",
        ")\n",
        "test_ds = keras.utils.text_dataset_from_directory(\n",
        "    \"aclImdb/test\", batch_size=batch_size\n",
        ")\n",
        "text_only_train_ds = train_ds.map(lambda x, y: x)"
      ]
    },
    {
      "cell_type": "markdown",
      "metadata": {
        "id": "lnAhZibJKdr2"
      },
      "source": [
        "**Vectorizing the data**"
      ]
    },
    {
      "cell_type": "code",
      "execution_count": 3,
      "metadata": {
        "id": "PpwNNyIuKdr3"
      },
      "outputs": [],
      "source": [
        "from tensorflow.keras import layers\n",
        "\n",
        "max_length = 600\n",
        "max_tokens = 20000\n",
        "text_vectorization = layers.TextVectorization(\n",
        "    max_tokens=max_tokens,\n",
        "    output_mode=\"int\",\n",
        "    output_sequence_length=max_length,\n",
        ")\n",
        "text_vectorization.adapt(text_only_train_ds)\n",
        "\n",
        "int_train_ds = train_ds.map(\n",
        "    lambda x, y: (text_vectorization(x), y),\n",
        "    num_parallel_calls=4)\n",
        "int_val_ds = val_ds.map(\n",
        "    lambda x, y: (text_vectorization(x), y),\n",
        "    num_parallel_calls=4)\n",
        "int_test_ds = test_ds.map(\n",
        "    lambda x, y: (text_vectorization(x), y),\n",
        "    num_parallel_calls=4)"
      ]
    },
    {
      "cell_type": "markdown",
      "metadata": {
        "id": "RaH6P4EEKdr3"
      },
      "source": [
        "**Transformer encoder implemented as a subclassed `Layer`**"
      ]
    },
    {
      "cell_type": "code",
      "execution_count": 4,
      "metadata": {
        "id": "i9LSsNF3Kdr4"
      },
      "outputs": [],
      "source": [
        "import tensorflow as tf\n",
        "from tensorflow import keras\n",
        "from tensorflow.keras import layers\n",
        "\n",
        "class TransformerEncoder(layers.Layer):\n",
        "    def __init__(self, embed_dim, dense_dim, num_heads, **kwargs):\n",
        "        super().__init__(**kwargs)\n",
        "        self.embed_dim = embed_dim\n",
        "        self.dense_dim = dense_dim\n",
        "        self.num_heads = num_heads\n",
        "        self.attention = layers.MultiHeadAttention(\n",
        "            num_heads=num_heads, key_dim=embed_dim)\n",
        "        self.dense_proj = keras.Sequential(\n",
        "            [layers.Dense(dense_dim, activation=\"relu\"),\n",
        "             layers.Dense(embed_dim),]\n",
        "        )\n",
        "        self.layernorm_1 = layers.LayerNormalization()\n",
        "        self.layernorm_2 = layers.LayerNormalization()\n",
        "\n",
        "    def call(self, inputs, mask=None):\n",
        "        if mask is not None:\n",
        "            mask = mask[:, tf.newaxis, :]\n",
        "        attention_output = self.attention(\n",
        "            inputs, inputs, attention_mask=mask)\n",
        "        proj_input = self.layernorm_1(inputs + attention_output)\n",
        "        proj_output = self.dense_proj(proj_input)\n",
        "        return self.layernorm_2(proj_input + proj_output)\n",
        "\n",
        "    def get_config(self):\n",
        "        config = super().get_config()\n",
        "        config.update({\n",
        "            \"embed_dim\": self.embed_dim,\n",
        "            \"num_heads\": self.num_heads,\n",
        "            \"dense_dim\": self.dense_dim,\n",
        "        })\n",
        "        return config"
      ]
    },
    {
      "cell_type": "markdown",
      "metadata": {
        "id": "nyfqHe0hKdr4"
      },
      "source": [
        "**Using the Transformer encoder for text classification**"
      ]
    },
    {
      "cell_type": "code",
      "execution_count": 5,
      "metadata": {
        "colab": {
          "base_uri": "https://localhost:8080/"
        },
        "id": "S0jWVBXyKdr5",
        "outputId": "89789063-c61d-4bbb-dbed-a8d0750f7006"
      },
      "outputs": [
        {
          "name": "stdout",
          "output_type": "stream",
          "text": [
            "Model: \"model\"\n",
            "_________________________________________________________________\n",
            " Layer (type)                Output Shape              Param #   \n",
            "=================================================================\n",
            " input_1 (InputLayer)        [(None, None)]            0         \n",
            "                                                                 \n",
            " embedding (Embedding)       (None, None, 256)         5120000   \n",
            "                                                                 \n",
            " transformer_encoder (Transf  (None, None, 256)        543776    \n",
            " ormerEncoder)                                                   \n",
            "                                                                 \n",
            " global_max_pooling1d (Globa  (None, 256)              0         \n",
            " lMaxPooling1D)                                                  \n",
            "                                                                 \n",
            " dropout (Dropout)           (None, 256)               0         \n",
            "                                                                 \n",
            " dense_2 (Dense)             (None, 1)                 257       \n",
            "                                                                 \n",
            "=================================================================\n",
            "Total params: 5,664,033\n",
            "Trainable params: 5,664,033\n",
            "Non-trainable params: 0\n",
            "_________________________________________________________________\n"
          ]
        }
      ],
      "source": [
        "vocab_size = 20000\n",
        "embed_dim = 256\n",
        "num_heads = 2\n",
        "dense_dim = 32\n",
        "\n",
        "inputs = keras.Input(shape=(None,), dtype=\"int64\")\n",
        "x = layers.Embedding(vocab_size, embed_dim)(inputs)\n",
        "x = TransformerEncoder(embed_dim, dense_dim, num_heads)(x)\n",
        "x = layers.GlobalMaxPooling1D()(x)\n",
        "x = layers.Dropout(0.5)(x)\n",
        "outputs = layers.Dense(1, activation=\"sigmoid\")(x)\n",
        "model = keras.Model(inputs, outputs)\n",
        "model.compile(optimizer=\"rmsprop\",\n",
        "              loss=\"binary_crossentropy\",\n",
        "              metrics=[\"accuracy\"])\n",
        "model.summary()"
      ]
    },
    {
      "cell_type": "markdown",
      "metadata": {
        "id": "jICbjQzMKdr5"
      },
      "source": [
        "**Training and evaluating the Transformer encoder based model**"
      ]
    },
    {
      "cell_type": "code",
      "execution_count": 6,
      "metadata": {
        "colab": {
          "base_uri": "https://localhost:8080/"
        },
        "id": "OwH3Zx7dKdr5",
        "outputId": "961987db-d513-447a-f1fd-0528fa6db7a0"
      },
      "outputs": [
        {
          "name": "stdout",
          "output_type": "stream",
          "text": [
            "Epoch 1/20\n",
            "625/625 [==============================] - 50s 70ms/step - loss: 0.4969 - accuracy: 0.7671 - val_loss: 0.3175 - val_accuracy: 0.8614\n",
            "Epoch 2/20\n",
            "625/625 [==============================] - 42s 67ms/step - loss: 0.3263 - accuracy: 0.8615 - val_loss: 0.2840 - val_accuracy: 0.8838\n",
            "Epoch 3/20\n",
            "625/625 [==============================] - 42s 67ms/step - loss: 0.2604 - accuracy: 0.8928 - val_loss: 0.3163 - val_accuracy: 0.8708\n",
            "Epoch 4/20\n",
            "625/625 [==============================] - 42s 67ms/step - loss: 0.2090 - accuracy: 0.9171 - val_loss: 0.3297 - val_accuracy: 0.8842\n",
            "Epoch 5/20\n",
            "625/625 [==============================] - 42s 67ms/step - loss: 0.1677 - accuracy: 0.9341 - val_loss: 0.3379 - val_accuracy: 0.8942\n",
            "Epoch 6/20\n",
            "625/625 [==============================] - 42s 67ms/step - loss: 0.1360 - accuracy: 0.9477 - val_loss: 0.4253 - val_accuracy: 0.8768\n",
            "Epoch 7/20\n",
            "625/625 [==============================] - 44s 70ms/step - loss: 0.1172 - accuracy: 0.9576 - val_loss: 0.4941 - val_accuracy: 0.8552\n",
            "Epoch 8/20\n",
            "625/625 [==============================] - 42s 67ms/step - loss: 0.0961 - accuracy: 0.9660 - val_loss: 0.4888 - val_accuracy: 0.8722\n",
            "Epoch 9/20\n",
            "625/625 [==============================] - 42s 68ms/step - loss: 0.0844 - accuracy: 0.9697 - val_loss: 0.4557 - val_accuracy: 0.8758\n",
            "Epoch 10/20\n",
            "625/625 [==============================] - 42s 68ms/step - loss: 0.0704 - accuracy: 0.9746 - val_loss: 0.5701 - val_accuracy: 0.8716\n",
            "Epoch 11/20\n",
            "625/625 [==============================] - 42s 68ms/step - loss: 0.0579 - accuracy: 0.9799 - val_loss: 0.9259 - val_accuracy: 0.8466\n",
            "Epoch 12/20\n",
            "625/625 [==============================] - 44s 70ms/step - loss: 0.0497 - accuracy: 0.9837 - val_loss: 0.6610 - val_accuracy: 0.8672\n",
            "Epoch 13/20\n",
            "625/625 [==============================] - 42s 67ms/step - loss: 0.0415 - accuracy: 0.9856 - val_loss: 0.6461 - val_accuracy: 0.8626\n",
            "Epoch 14/20\n",
            "625/625 [==============================] - 42s 68ms/step - loss: 0.0336 - accuracy: 0.9894 - val_loss: 0.9755 - val_accuracy: 0.8374\n",
            "Epoch 15/20\n",
            "625/625 [==============================] - 42s 67ms/step - loss: 0.0363 - accuracy: 0.9894 - val_loss: 0.7216 - val_accuracy: 0.8646\n",
            "Epoch 16/20\n",
            "625/625 [==============================] - 43s 68ms/step - loss: 0.0251 - accuracy: 0.9911 - val_loss: 0.7932 - val_accuracy: 0.8692\n",
            "Epoch 17/20\n",
            "625/625 [==============================] - 44s 70ms/step - loss: 0.0274 - accuracy: 0.9919 - val_loss: 0.8498 - val_accuracy: 0.8128\n",
            "Epoch 18/20\n",
            "625/625 [==============================] - 42s 68ms/step - loss: 0.0212 - accuracy: 0.9930 - val_loss: 0.8596 - val_accuracy: 0.8654\n",
            "Epoch 19/20\n",
            "625/625 [==============================] - 42s 67ms/step - loss: 0.0201 - accuracy: 0.9937 - val_loss: 0.8439 - val_accuracy: 0.8698\n",
            "Epoch 20/20\n",
            "625/625 [==============================] - 42s 67ms/step - loss: 0.0169 - accuracy: 0.9952 - val_loss: 1.0467 - val_accuracy: 0.8592\n",
            "782/782 [==============================] - 24s 30ms/step - loss: 0.3044 - accuracy: 0.8695\n",
            "Test acc: 0.869\n"
          ]
        }
      ],
      "source": [
        "callbacks = [\n",
        "    keras.callbacks.ModelCheckpoint(\"transformer_encoder.keras\",\n",
        "                                    save_best_only=True)\n",
        "]\n",
        "model.fit(int_train_ds, validation_data=int_val_ds, epochs=20, callbacks=callbacks)\n",
        "model = keras.models.load_model(\n",
        "    \"transformer_encoder.keras\",\n",
        "    custom_objects={\"TransformerEncoder\": TransformerEncoder})\n",
        "print(f\"Test acc: {model.evaluate(int_test_ds)[1]:.3f}\")"
      ]
    },
    {
      "cell_type": "markdown",
      "metadata": {
        "id": "3FoXMRXAKdr6"
      },
      "source": [
        "#### Using positional encoding to re-inject order information"
      ]
    },
    {
      "cell_type": "markdown",
      "metadata": {
        "id": "8RxdL3ggKdr6"
      },
      "source": [
        "**Implementing positional embedding as a subclassed layer**"
      ]
    },
    {
      "cell_type": "code",
      "execution_count": 7,
      "metadata": {
        "id": "AGWb7IwYKdr6"
      },
      "outputs": [],
      "source": [
        "class PositionalEmbedding(layers.Layer):\n",
        "    def __init__(self, sequence_length, input_dim, output_dim, **kwargs):\n",
        "        super().__init__(**kwargs)\n",
        "        self.token_embeddings = layers.Embedding(\n",
        "            input_dim=input_dim, output_dim=output_dim)\n",
        "        self.position_embeddings = layers.Embedding(\n",
        "            input_dim=sequence_length, output_dim=output_dim)\n",
        "        self.sequence_length = sequence_length\n",
        "        self.input_dim = input_dim\n",
        "        self.output_dim = output_dim\n",
        "\n",
        "    def call(self, inputs):\n",
        "        length = tf.shape(inputs)[-1]\n",
        "        positions = tf.range(start=0, limit=length, delta=1)\n",
        "        embedded_tokens = self.token_embeddings(inputs)\n",
        "        embedded_positions = self.position_embeddings(positions)\n",
        "        return embedded_tokens + embedded_positions\n",
        "\n",
        "    def compute_mask(self, inputs, mask=None):\n",
        "        return tf.math.not_equal(inputs, 0)\n",
        "\n",
        "    def get_config(self):\n",
        "        config = super().get_config()\n",
        "        config.update({\n",
        "            \"output_dim\": self.output_dim,\n",
        "            \"sequence_length\": self.sequence_length,\n",
        "            \"input_dim\": self.input_dim,\n",
        "        })\n",
        "        return config"
      ]
    },
    {
      "cell_type": "markdown",
      "metadata": {
        "id": "LErztM3-Kdr7"
      },
      "source": [
        "#### Putting it all together: A text-classification Transformer"
      ]
    },
    {
      "cell_type": "markdown",
      "metadata": {
        "id": "Jxe6QYBzKdr7"
      },
      "source": [
        "**Combining the Transformer encoder with positional embedding**"
      ]
    },
    {
      "cell_type": "code",
      "execution_count": 8,
      "metadata": {
        "colab": {
          "base_uri": "https://localhost:8080/"
        },
        "id": "MMI4eK7kKdr7",
        "outputId": "5d4c3186-5a71-4346-9eb3-43eb7754de3f"
      },
      "outputs": [
        {
          "name": "stdout",
          "output_type": "stream",
          "text": [
            "Model: \"model_1\"\n",
            "_________________________________________________________________\n",
            " Layer (type)                Output Shape              Param #   \n",
            "=================================================================\n",
            " input_2 (InputLayer)        [(None, None)]            0         \n",
            "                                                                 \n",
            " positional_embedding (Posit  (None, None, 256)        5273600   \n",
            " ionalEmbedding)                                                 \n",
            "                                                                 \n",
            " transformer_encoder_1 (Tran  (None, None, 256)        543776    \n",
            " sformerEncoder)                                                 \n",
            "                                                                 \n",
            " global_max_pooling1d_1 (Glo  (None, 256)              0         \n",
            " balMaxPooling1D)                                                \n",
            "                                                                 \n",
            " dropout_1 (Dropout)         (None, 256)               0         \n",
            "                                                                 \n",
            " dense_7 (Dense)             (None, 1)                 257       \n",
            "                                                                 \n",
            "=================================================================\n",
            "Total params: 5,817,633\n",
            "Trainable params: 5,817,633\n",
            "Non-trainable params: 0\n",
            "_________________________________________________________________\n",
            "Epoch 1/20\n",
            "625/625 [==============================] - 45s 69ms/step - loss: 0.4896 - accuracy: 0.7714 - val_loss: 0.2627 - val_accuracy: 0.8892\n",
            "Epoch 2/20\n",
            "625/625 [==============================] - 43s 69ms/step - loss: 0.2387 - accuracy: 0.9070 - val_loss: 0.2569 - val_accuracy: 0.9018\n",
            "Epoch 3/20\n",
            "625/625 [==============================] - 42s 68ms/step - loss: 0.1797 - accuracy: 0.9329 - val_loss: 0.2971 - val_accuracy: 0.8918\n",
            "Epoch 4/20\n",
            "625/625 [==============================] - 43s 69ms/step - loss: 0.1479 - accuracy: 0.9463 - val_loss: 0.3170 - val_accuracy: 0.8922\n",
            "Epoch 5/20\n",
            "625/625 [==============================] - 43s 69ms/step - loss: 0.1249 - accuracy: 0.9554 - val_loss: 0.3130 - val_accuracy: 0.8916\n",
            "Epoch 6/20\n",
            "625/625 [==============================] - 43s 69ms/step - loss: 0.1057 - accuracy: 0.9638 - val_loss: 0.3879 - val_accuracy: 0.8888\n",
            "Epoch 7/20\n",
            "625/625 [==============================] - 43s 69ms/step - loss: 0.0951 - accuracy: 0.9674 - val_loss: 0.3484 - val_accuracy: 0.8894\n",
            "Epoch 8/20\n",
            "625/625 [==============================] - 43s 69ms/step - loss: 0.0840 - accuracy: 0.9728 - val_loss: 0.4525 - val_accuracy: 0.8860\n",
            "Epoch 9/20\n",
            "625/625 [==============================] - 43s 69ms/step - loss: 0.0755 - accuracy: 0.9758 - val_loss: 0.4706 - val_accuracy: 0.8776\n",
            "Epoch 10/20\n",
            "625/625 [==============================] - 44s 69ms/step - loss: 0.0701 - accuracy: 0.9768 - val_loss: 0.4429 - val_accuracy: 0.8816\n",
            "Epoch 11/20\n",
            "625/625 [==============================] - 44s 69ms/step - loss: 0.0619 - accuracy: 0.9797 - val_loss: 0.4720 - val_accuracy: 0.8846\n",
            "Epoch 12/20\n",
            "625/625 [==============================] - 43s 69ms/step - loss: 0.0562 - accuracy: 0.9819 - val_loss: 0.4867 - val_accuracy: 0.8844\n",
            "Epoch 13/20\n",
            "625/625 [==============================] - 43s 69ms/step - loss: 0.0499 - accuracy: 0.9847 - val_loss: 0.5383 - val_accuracy: 0.8828\n",
            "Epoch 14/20\n",
            "625/625 [==============================] - 43s 69ms/step - loss: 0.0474 - accuracy: 0.9849 - val_loss: 0.5287 - val_accuracy: 0.8834\n",
            "Epoch 15/20\n",
            "625/625 [==============================] - 43s 68ms/step - loss: 0.0426 - accuracy: 0.9868 - val_loss: 0.5132 - val_accuracy: 0.8828\n",
            "Epoch 16/20\n",
            "625/625 [==============================] - 43s 69ms/step - loss: 0.0393 - accuracy: 0.9886 - val_loss: 0.5112 - val_accuracy: 0.8770\n",
            "Epoch 17/20\n",
            "625/625 [==============================] - 43s 69ms/step - loss: 0.0387 - accuracy: 0.9887 - val_loss: 0.5195 - val_accuracy: 0.8834\n",
            "Epoch 18/20\n",
            "625/625 [==============================] - 43s 69ms/step - loss: 0.0359 - accuracy: 0.9897 - val_loss: 0.6623 - val_accuracy: 0.8818\n",
            "Epoch 19/20\n",
            "625/625 [==============================] - 44s 69ms/step - loss: 0.0338 - accuracy: 0.9900 - val_loss: 0.6553 - val_accuracy: 0.8814\n",
            "Epoch 20/20\n",
            "625/625 [==============================] - 43s 69ms/step - loss: 0.0299 - accuracy: 0.9913 - val_loss: 0.7862 - val_accuracy: 0.8636\n",
            "782/782 [==============================] - 20s 26ms/step - loss: 0.2988 - accuracy: 0.8814\n",
            "Test acc: 0.881\n"
          ]
        }
      ],
      "source": [
        "vocab_size = 20000\n",
        "sequence_length = 600\n",
        "embed_dim = 256\n",
        "num_heads = 2\n",
        "dense_dim = 32\n",
        "\n",
        "inputs = keras.Input(shape=(None,), dtype=\"int64\")\n",
        "x = PositionalEmbedding(sequence_length, vocab_size, embed_dim)(inputs)\n",
        "x = TransformerEncoder(embed_dim, dense_dim, num_heads)(x)\n",
        "x = layers.GlobalMaxPooling1D()(x)\n",
        "x = layers.Dropout(0.5)(x)\n",
        "outputs = layers.Dense(1, activation=\"sigmoid\")(x)\n",
        "model = keras.Model(inputs, outputs)\n",
        "model.compile(optimizer=\"rmsprop\",\n",
        "              loss=\"binary_crossentropy\",\n",
        "              metrics=[\"accuracy\"])\n",
        "model.summary()\n",
        "\n",
        "callbacks = [\n",
        "    keras.callbacks.ModelCheckpoint(\"full_transformer_encoder.keras\",\n",
        "                                    save_best_only=True)\n",
        "]\n",
        "model.fit(int_train_ds, validation_data=int_val_ds, epochs=20, callbacks=callbacks)\n",
        "model = keras.models.load_model(\n",
        "    \"full_transformer_encoder.keras\",\n",
        "    custom_objects={\"TransformerEncoder\": TransformerEncoder,\n",
        "                    \"PositionalEmbedding\": PositionalEmbedding})\n",
        "print(f\"Test acc: {model.evaluate(int_test_ds)[1]:.3f}\")"
      ]
    },
    {
      "cell_type": "markdown",
      "metadata": {
        "id": "fbvo5yhUKdr8"
      },
      "source": [
        "### When to use sequence models over bag-of-words models?"
      ]
    }
  ],
  "metadata": {
    "accelerator": "GPU",
    "colab": {
      "name": "chapter11_part03_transformer.i",
      "provenance": [],
      "toc_visible": true
    },
    "gpuClass": "standard",
    "kernelspec": {
      "display_name": "Python 3",
      "language": "python",
      "name": "python3"
    },
    "language_info": {
      "codemirror_mode": {
        "name": "ipython",
        "version": 3
      },
      "file_extension": ".py",
      "mimetype": "text/x-python",
      "name": "python",
      "nbconvert_exporter": "python",
      "pygments_lexer": "ipython3",
      "version": "3.7.0"
    }
  },
  "nbformat": 4,
  "nbformat_minor": 0
}
