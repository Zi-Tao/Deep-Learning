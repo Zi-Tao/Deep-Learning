{
  "cells": [
    {
      "cell_type": "markdown",
      "metadata": {
        "id": "JZPiNTnD_ekT"
      },
      "source": [
        "This is a companion notebook for the book [Deep Learning with Python, Second Edition](https://www.manning.com/books/deep-learning-with-python-second-edition?a_aid=keras&a_bid=76564dff). For readability, it only contains runnable code blocks and section titles, and omits everything else in the book: text paragraphs, figures, and pseudocode.\n",
        "\n",
        "**If you want to be able to follow what's going on, I recommend reading the notebook side by side with your copy of the book.**\n",
        "\n",
        "This notebook was generated for TensorFlow 2.6."
      ]
    },
    {
      "cell_type": "markdown",
      "metadata": {
        "id": "0amBSstA_ekW"
      },
      "source": [
        "# Deep learning for timeseries"
      ]
    },
    {
      "cell_type": "markdown",
      "metadata": {
        "id": "I5qZViTw_ekW"
      },
      "source": [
        "## Different kinds of timeseries tasks"
      ]
    },
    {
      "cell_type": "markdown",
      "metadata": {
        "id": "45Y2Y1fi_ekX"
      },
      "source": [
        "## A temperature-forecasting example"
      ]
    },
    {
      "cell_type": "code",
      "execution_count": 1,
      "metadata": {
        "id": "Q67lxMbw_ekX",
        "outputId": "c1bd84b3-5688-4c33-fa7d-cf2036d17f05",
        "colab": {
          "base_uri": "https://localhost:8080/"
        }
      },
      "outputs": [
        {
          "output_type": "stream",
          "name": "stdout",
          "text": [
            "--2022-11-29 15:26:01--  https://s3.amazonaws.com/keras-datasets/jena_climate_2009_2016.csv.zip\n",
            "Resolving s3.amazonaws.com (s3.amazonaws.com)... 52.217.202.64, 52.217.164.208, 52.217.135.96, ...\n",
            "Connecting to s3.amazonaws.com (s3.amazonaws.com)|52.217.202.64|:443... connected.\n",
            "HTTP request sent, awaiting response... 200 OK\n",
            "Length: 13565642 (13M) [application/zip]\n",
            "Saving to: ‘jena_climate_2009_2016.csv.zip’\n",
            "\n",
            "jena_climate_2009_2 100%[===================>]  12.94M  5.06MB/s    in 2.6s    \n",
            "\n",
            "2022-11-29 15:26:05 (5.06 MB/s) - ‘jena_climate_2009_2016.csv.zip’ saved [13565642/13565642]\n",
            "\n",
            "Archive:  jena_climate_2009_2016.csv.zip\n",
            "  inflating: jena_climate_2009_2016.csv  \n",
            "  inflating: __MACOSX/._jena_climate_2009_2016.csv  \n"
          ]
        }
      ],
      "source": [
        "!wget https://s3.amazonaws.com/keras-datasets/jena_climate_2009_2016.csv.zip\n",
        "!unzip jena_climate_2009_2016.csv.zip"
      ]
    },
    {
      "cell_type": "markdown",
      "metadata": {
        "id": "hcgckIJE_ekY"
      },
      "source": [
        "**Inspecting the data of the Jena weather dataset**"
      ]
    },
    {
      "cell_type": "code",
      "execution_count": 2,
      "metadata": {
        "id": "Ecn0MXCh_ekZ",
        "outputId": "07c5ed51-4bc5-4a4a-c7ef-1324a5a926f6",
        "colab": {
          "base_uri": "https://localhost:8080/"
        }
      },
      "outputs": [
        {
          "output_type": "stream",
          "name": "stdout",
          "text": [
            "['\"Date Time\"', '\"p (mbar)\"', '\"T (degC)\"', '\"Tpot (K)\"', '\"Tdew (degC)\"', '\"rh (%)\"', '\"VPmax (mbar)\"', '\"VPact (mbar)\"', '\"VPdef (mbar)\"', '\"sh (g/kg)\"', '\"H2OC (mmol/mol)\"', '\"rho (g/m**3)\"', '\"wv (m/s)\"', '\"max. wv (m/s)\"', '\"wd (deg)\"']\n",
            "420451\n"
          ]
        }
      ],
      "source": [
        "import os\n",
        "fname = os.path.join(\"jena_climate_2009_2016.csv\")\n",
        "\n",
        "with open(fname) as f:\n",
        "    data = f.read()\n",
        "\n",
        "lines = data.split(\"\\n\")\n",
        "header = lines[0].split(\",\")\n",
        "lines = lines[1:]\n",
        "print(header)\n",
        "print(len(lines))"
      ]
    },
    {
      "cell_type": "markdown",
      "metadata": {
        "id": "DwK26A_3_ekZ"
      },
      "source": [
        "**Parsing the data**"
      ]
    },
    {
      "cell_type": "code",
      "execution_count": 3,
      "metadata": {
        "id": "0K3878Jf_ekZ"
      },
      "outputs": [],
      "source": [
        "import numpy as np\n",
        "temperature = np.zeros((len(lines),))\n",
        "raw_data = np.zeros((len(lines), len(header) - 1))\n",
        "for i, line in enumerate(lines):\n",
        "    values = [float(x) for x in line.split(\",\")[1:]]\n",
        "    temperature[i] = values[1]\n",
        "    raw_data[i, :] = values[:]"
      ]
    },
    {
      "cell_type": "markdown",
      "metadata": {
        "id": "8nO49Q-6_eka"
      },
      "source": [
        "**Plotting the temperature timeseries**"
      ]
    },
    {
      "cell_type": "code",
      "execution_count": 4,
      "metadata": {
        "id": "O8-5L7Xd_eka",
        "outputId": "8242d4d4-c10d-49cf-bdd2-4d5d36923c3e",
        "colab": {
          "base_uri": "https://localhost:8080/",
          "height": 285
        }
      },
      "outputs": [
        {
          "output_type": "execute_result",
          "data": {
            "text/plain": [
              "[<matplotlib.lines.Line2D at 0x7f9f3b337450>]"
            ]
          },
          "metadata": {},
          "execution_count": 4
        },
        {
          "output_type": "display_data",
          "data": {
            "text/plain": [
              "<Figure size 432x288 with 1 Axes>"
            ],
            "image/png": "[encoded data removed]"
          },
          "metadata": {
            "needs_background": "light"
          }
        }
      ],
      "source": [
        "from matplotlib import pyplot as plt\n",
        "plt.plot(range(len(temperature)), temperature)"
      ]
    },
    {
      "cell_type": "markdown",
      "metadata": {
        "id": "EycUXI86_eka"
      },
      "source": [
        "**Plotting the first 10 days of the temperature timeseries**"
      ]
    },
    {
      "cell_type": "code",
      "execution_count": 5,
      "metadata": {
        "id": "jwz9ddAv_ekb",
        "outputId": "898cd79c-4c1e-419f-e24d-53bf73004ee1",
        "colab": {
          "base_uri": "https://localhost:8080/",
          "height": 282
        }
      },
      "outputs": [
        {
          "output_type": "execute_result",
          "data": {
            "text/plain": [
              "[<matplotlib.lines.Line2D at 0x7f9f3ae0bd90>]"
            ]
          },
          "metadata": {},
          "execution_count": 5
        },
        {
          "output_type": "display_data",
          "data": {
            "text/plain": [
              "<Figure size 432x288 with 1 Axes>"
            ],
            "image/png": "[encoded data removed]"
          },
          "metadata": {
            "needs_background": "light"
          }
        }
      ],
      "source": [
        "plt.plot(range(1440), temperature[:1440])"
      ]
    },
    {
      "cell_type": "markdown",
      "metadata": {
        "id": "lmC3CvCc_ekb"
      },
      "source": [
        "**Computing the number of samples we'll use for each data split**"
      ]
    },
    {
      "cell_type": "code",
      "execution_count": 6,
      "metadata": {
        "id": "Ztt5sThB_ekb",
        "outputId": "e1d2c172-adff-4814-b046-4ea80eb4a405",
        "colab": {
          "base_uri": "https://localhost:8080/"
        }
      },
      "outputs": [
        {
          "output_type": "stream",
          "name": "stdout",
          "text": [
            "num_train_samples: 210225\n",
            "num_val_samples: 105112\n",
            "num_test_samples: 105114\n"
          ]
        }
      ],
      "source": [
        "num_train_samples = int(0.5 * len(raw_data))\n",
        "num_val_samples = int(0.25 * len(raw_data))\n",
        "num_test_samples = len(raw_data) - num_train_samples - num_val_samples\n",
        "print(\"num_train_samples:\", num_train_samples)\n",
        "print(\"num_val_samples:\", num_val_samples)\n",
        "print(\"num_test_samples:\", num_test_samples)"
      ]
    },
    {
      "cell_type": "markdown",
      "metadata": {
        "id": "-3o2-YHI_ekc"
      },
      "source": [
        "### Preparing the data"
      ]
    },
    {
      "cell_type": "markdown",
      "metadata": {
        "id": "GAPW9Jii_ekc"
      },
      "source": [
        "**Normalizing the data**"
      ]
    },
    {
      "cell_type": "code",
      "execution_count": 7,
      "metadata": {
        "id": "MkwtcE1t_ekd"
      },
      "outputs": [],
      "source": [
        "mean = raw_data[:num_train_samples].mean(axis=0)\n",
        "raw_data -= mean\n",
        "std = raw_data[:num_train_samples].std(axis=0)\n",
        "raw_data /= std"
      ]
    },
    {
      "cell_type": "code",
      "execution_count": 8,
      "metadata": {
        "id": "bY_vU00o_ekd",
        "outputId": "b46c418f-635f-4acd-bed0-8c16012b7cc4",
        "colab": {
          "base_uri": "https://localhost:8080/"
        }
      },
      "outputs": [
        {
          "output_type": "stream",
          "name": "stdout",
          "text": [
            "[0, 1, 2] 3\n",
            "[1, 2, 3] 4\n",
            "[2, 3, 4] 5\n",
            "[3, 4, 5] 6\n",
            "[4, 5, 6] 7\n"
          ]
        }
      ],
      "source": [
        "import numpy as np\n",
        "from tensorflow import keras\n",
        "int_sequence = np.arange(10)\n",
        "dummy_dataset = keras.utils.timeseries_dataset_from_array(\n",
        "    data=int_sequence[:-3],\n",
        "    targets=int_sequence[3:],\n",
        "    sequence_length=3,\n",
        "    batch_size=2,\n",
        ")\n",
        "\n",
        "for inputs, targets in dummy_dataset:\n",
        "    for i in range(inputs.shape[0]):\n",
        "        print([int(x) for x in inputs[i]], int(targets[i]))"
      ]
    },
    {
      "cell_type": "markdown",
      "metadata": {
        "id": "bCPdpPoy_ekd"
      },
      "source": [
        "**Instantiating datasets for training, validation, and testing**"
      ]
    },
    {
      "cell_type": "code",
      "execution_count": 9,
      "metadata": {
        "id": "Mv8tDgsV_eke"
      },
      "outputs": [],
      "source": [
        "sampling_rate = 6\n",
        "sequence_length = 120\n",
        "delay = sampling_rate * (sequence_length + 24 - 1)\n",
        "batch_size = 256\n",
        "\n",
        "train_dataset = keras.utils.timeseries_dataset_from_array(\n",
        "    raw_data[:-delay],\n",
        "    targets=temperature[delay:],\n",
        "    sampling_rate=sampling_rate,\n",
        "    sequence_length=sequence_length,\n",
        "    shuffle=True,\n",
        "    batch_size=batch_size,\n",
        "    start_index=0,\n",
        "    end_index=num_train_samples)\n",
        "\n",
        "val_dataset = keras.utils.timeseries_dataset_from_array(\n",
        "    raw_data[:-delay],\n",
        "    targets=temperature[delay:],\n",
        "    sampling_rate=sampling_rate,\n",
        "    sequence_length=sequence_length,\n",
        "    shuffle=True,\n",
        "    batch_size=batch_size,\n",
        "    start_index=num_train_samples,\n",
        "    end_index=num_train_samples + num_val_samples)\n",
        "\n",
        "test_dataset = keras.utils.timeseries_dataset_from_array(\n",
        "    raw_data[:-delay],\n",
        "    targets=temperature[delay:],\n",
        "    sampling_rate=sampling_rate,\n",
        "    sequence_length=sequence_length,\n",
        "    shuffle=True,\n",
        "    batch_size=batch_size,\n",
        "    start_index=num_train_samples + num_val_samples)"
      ]
    },
    {
      "cell_type": "markdown",
      "metadata": {
        "id": "hYBArBqF_eke"
      },
      "source": [
        "**Inspecting the output of one of our datasets**"
      ]
    },
    {
      "cell_type": "code",
      "execution_count": 10,
      "metadata": {
        "id": "3Ls86ee6_eke",
        "outputId": "b515397b-6847-45e1-d68c-a727182b7e4d",
        "colab": {
          "base_uri": "https://localhost:8080/"
        }
      },
      "outputs": [
        {
          "output_type": "stream",
          "name": "stdout",
          "text": [
            "samples shape: (256, 120, 14)\n",
            "targets shape: (256,)\n"
          ]
        }
      ],
      "source": [
        "for samples, targets in train_dataset:\n",
        "    print(\"samples shape:\", samples.shape)\n",
        "    print(\"targets shape:\", targets.shape)\n",
        "    break"
      ]
    },
    {
      "cell_type": "markdown",
      "metadata": {
        "id": "NMGyOFt2_ekf"
      },
      "source": [
        "### A common-sense, non-machine-learning baseline"
      ]
    },
    {
      "cell_type": "markdown",
      "metadata": {
        "id": "MKhike3S_ekf"
      },
      "source": [
        "**Computing the common-sense baseline MAE**"
      ]
    },
    {
      "cell_type": "code",
      "execution_count": 11,
      "metadata": {
        "id": "JZFEtiYa_ekf",
        "outputId": "290f605e-fae8-4388-bdc0-dd43abcc28ca",
        "colab": {
          "base_uri": "https://localhost:8080/"
        }
      },
      "outputs": [
        {
          "output_type": "stream",
          "name": "stdout",
          "text": [
            "Validation MAE: 2.44\n",
            "Test MAE: 2.62\n"
          ]
        }
      ],
      "source": [
        "def evaluate_naive_method(dataset):\n",
        "    total_abs_err = 0.\n",
        "    samples_seen = 0\n",
        "    for samples, targets in dataset:\n",
        "        preds = samples[:, -1, 1] * std[1] + mean[1]\n",
        "        total_abs_err += np.sum(np.abs(preds - targets))\n",
        "        samples_seen += samples.shape[0]\n",
        "    return total_abs_err / samples_seen\n",
        "\n",
        "print(f\"Validation MAE: {evaluate_naive_method(val_dataset):.2f}\")\n",
        "print(f\"Test MAE: {evaluate_naive_method(test_dataset):.2f}\")"
      ]
    },
    {
      "cell_type": "markdown",
      "metadata": {
        "id": "puzoZa8R_ekg"
      },
      "source": [
        "### Let's try a basic machine-learning model"
      ]
    },
    {
      "cell_type": "markdown",
      "metadata": {
        "id": "2qeGKJnJ_ekg"
      },
      "source": [
        "**Training and evaluating a densely connected model**"
      ]
    },
    {
      "cell_type": "code",
      "execution_count": 12,
      "metadata": {
        "id": "mFEoDYK9_ekg",
        "outputId": "f0e6f092-a66c-41a0-b6f1-de353760f8c7",
        "colab": {
          "base_uri": "https://localhost:8080/"
        }
      },
      "outputs": [
        {
          "output_type": "stream",
          "name": "stdout",
          "text": [
            "Epoch 1/10\n",
            "819/819 [==============================] - 39s 44ms/step - loss: 12.7721 - mae: 2.7612 - val_loss: 11.0359 - val_mae: 2.6130\n",
            "Epoch 2/10\n",
            "819/819 [==============================] - 37s 45ms/step - loss: 9.0019 - mae: 2.3647 - val_loss: 10.4212 - val_mae: 2.5555\n",
            "Epoch 3/10\n",
            "819/819 [==============================] - 37s 44ms/step - loss: 8.3171 - mae: 2.2717 - val_loss: 12.4395 - val_mae: 2.8012\n",
            "Epoch 4/10\n",
            "819/819 [==============================] - 36s 44ms/step - loss: 7.9126 - mae: 2.2173 - val_loss: 10.9413 - val_mae: 2.6112\n",
            "Epoch 5/10\n",
            "819/819 [==============================] - 37s 45ms/step - loss: 7.6295 - mae: 2.1767 - val_loss: 10.3100 - val_mae: 2.5346\n",
            "Epoch 6/10\n",
            "819/819 [==============================] - 43s 52ms/step - loss: 7.3884 - mae: 2.1428 - val_loss: 10.7184 - val_mae: 2.5857\n",
            "Epoch 7/10\n",
            "819/819 [==============================] - 39s 47ms/step - loss: 7.1782 - mae: 2.1117 - val_loss: 10.4086 - val_mae: 2.5570\n",
            "Epoch 8/10\n",
            "819/819 [==============================] - 38s 46ms/step - loss: 7.0341 - mae: 2.0888 - val_loss: 10.6160 - val_mae: 2.5824\n",
            "Epoch 9/10\n",
            "819/819 [==============================] - 37s 46ms/step - loss: 6.8782 - mae: 2.0660 - val_loss: 10.8225 - val_mae: 2.6109\n",
            "Epoch 10/10\n",
            "819/819 [==============================] - 37s 45ms/step - loss: 6.7822 - mae: 2.0524 - val_loss: 10.4679 - val_mae: 2.5656\n",
            "405/405 [==============================] - 13s 32ms/step - loss: 11.6279 - mae: 2.6791\n",
            "Test MAE: 2.68\n"
          ]
        }
      ],
      "source": [
        "from tensorflow import keras\n",
        "from tensorflow.keras import layers\n",
        "\n",
        "inputs = keras.Input(shape=(sequence_length, raw_data.shape[-1]))\n",
        "x = layers.Flatten()(inputs)\n",
        "x = layers.Dense(16, activation=\"relu\")(x)\n",
        "outputs = layers.Dense(1)(x)\n",
        "model = keras.Model(inputs, outputs)\n",
        "\n",
        "callbacks = [\n",
        "    keras.callbacks.ModelCheckpoint(\"jena_dense.keras\",\n",
        "                                    save_best_only=True)\n",
        "]\n",
        "model.compile(optimizer=\"rmsprop\", loss=\"mse\", metrics=[\"mae\"])\n",
        "history = model.fit(train_dataset,\n",
        "                    epochs=10,\n",
        "                    validation_data=val_dataset,\n",
        "                    callbacks=callbacks)\n",
        "\n",
        "model = keras.models.load_model(\"jena_dense.keras\")\n",
        "print(f\"Test MAE: {model.evaluate(test_dataset)[1]:.2f}\")"
      ]
    },
    {
      "cell_type": "markdown",
      "metadata": {
        "id": "tYeeErkE_ekg"
      },
      "source": [
        "**Plotting results**"
      ]
    },
    {
      "cell_type": "code",
      "execution_count": 13,
      "metadata": {
        "id": "4DbVSzRQ_ekh",
        "outputId": "b07c9bb6-d0ae-45fd-eccb-f89b06e09577",
        "colab": {
          "base_uri": "https://localhost:8080/",
          "height": 281
        }
      },
      "outputs": [
        {
          "output_type": "display_data",
          "data": {
            "text/plain": [
              "<Figure size 432x288 with 1 Axes>"
            ],
            "image/png": "[encoded data removed]"
          },
          "metadata": {
            "needs_background": "light"
          }
        }
      ],
      "source": [
        "import matplotlib.pyplot as plt\n",
        "loss = history.history[\"mae\"]\n",
        "val_loss = history.history[\"val_mae\"]\n",
        "epochs = range(1, len(loss) + 1)\n",
        "plt.figure()\n",
        "plt.plot(epochs, loss, \"bo\", label=\"Training MAE\")\n",
        "plt.plot(epochs, val_loss, \"b\", label=\"Validation MAE\")\n",
        "plt.title(\"Training and validation MAE\")\n",
        "plt.legend()\n",
        "plt.show()"
      ]
    },
    {
      "cell_type": "markdown",
      "metadata": {
        "id": "VJ2Tw899_ekh"
      },
      "source": [
        "### Let's try a 1D convolutional model"
      ]
    },
    {
      "cell_type": "code",
      "execution_count": 14,
      "metadata": {
        "id": "RoNUXSmT_eki",
        "outputId": "8672b4a0-8951-4cb6-9fad-5a4944426662",
        "colab": {
          "base_uri": "https://localhost:8080/"
        }
      },
      "outputs": [
        {
          "output_type": "stream",
          "name": "stdout",
          "text": [
            "Epoch 1/10\n",
            "819/819 [==============================] - 46s 49ms/step - loss: 22.1927 - mae: 3.6975 - val_loss: 16.5280 - val_mae: 3.1893\n",
            "Epoch 2/10\n",
            "819/819 [==============================] - 42s 51ms/step - loss: 15.8065 - mae: 3.1656 - val_loss: 19.0243 - val_mae: 3.4183\n",
            "Epoch 3/10\n",
            "819/819 [==============================] - 40s 49ms/step - loss: 14.5427 - mae: 3.0348 - val_loss: 15.2880 - val_mae: 3.1097\n",
            "Epoch 4/10\n",
            "819/819 [==============================] - 40s 49ms/step - loss: 13.7528 - mae: 2.9493 - val_loss: 15.7489 - val_mae: 3.1566\n",
            "Epoch 5/10\n",
            "819/819 [==============================] - 40s 48ms/step - loss: 13.0994 - mae: 2.8761 - val_loss: 17.9534 - val_mae: 3.3108\n",
            "Epoch 6/10\n",
            "819/819 [==============================] - 40s 48ms/step - loss: 12.4289 - mae: 2.8001 - val_loss: 15.6129 - val_mae: 3.1215\n",
            "Epoch 7/10\n",
            "819/819 [==============================] - 41s 49ms/step - loss: 11.9508 - mae: 2.7448 - val_loss: 16.9493 - val_mae: 3.2287\n",
            "Epoch 8/10\n",
            "819/819 [==============================] - 40s 49ms/step - loss: 11.4991 - mae: 2.6918 - val_loss: 14.3151 - val_mae: 2.9728\n",
            "Epoch 9/10\n",
            "819/819 [==============================] - 40s 48ms/step - loss: 11.1174 - mae: 2.6443 - val_loss: 15.8959 - val_mae: 3.1699\n",
            "Epoch 10/10\n",
            "819/819 [==============================] - 40s 48ms/step - loss: 10.8271 - mae: 2.6097 - val_loss: 14.8018 - val_mae: 3.0077\n",
            "405/405 [==============================] - 13s 31ms/step - loss: 15.7051 - mae: 3.1355\n",
            "Test MAE: 3.14\n"
          ]
        }
      ],
      "source": [
        "inputs = keras.Input(shape=(sequence_length, raw_data.shape[-1]))\n",
        "x = layers.Conv1D(8, 24, activation=\"relu\")(inputs)\n",
        "x = layers.MaxPooling1D(2)(x)\n",
        "x = layers.Conv1D(8, 12, activation=\"relu\")(x)\n",
        "x = layers.MaxPooling1D(2)(x)\n",
        "x = layers.Conv1D(8, 6, activation=\"relu\")(x)\n",
        "x = layers.GlobalAveragePooling1D()(x)\n",
        "outputs = layers.Dense(1)(x)\n",
        "model = keras.Model(inputs, outputs)\n",
        "\n",
        "callbacks = [\n",
        "    keras.callbacks.ModelCheckpoint(\"jena_conv.keras\",\n",
        "                                    save_best_only=True)\n",
        "]\n",
        "model.compile(optimizer=\"rmsprop\", loss=\"mse\", metrics=[\"mae\"])\n",
        "history = model.fit(train_dataset,\n",
        "                    epochs=10,\n",
        "                    validation_data=val_dataset,\n",
        "                    callbacks=callbacks)\n",
        "\n",
        "model = keras.models.load_model(\"jena_conv.keras\")\n",
        "print(f\"Test MAE: {model.evaluate(test_dataset)[1]:.2f}\")"
      ]
    },
    {
      "cell_type": "markdown",
      "metadata": {
        "id": "4cAFriJV_eki"
      },
      "source": [
        "### A first recurrent baseline"
      ]
    },
    {
      "cell_type": "markdown",
      "metadata": {
        "id": "aBePVp5Y_ekj"
      },
      "source": [
        "**A simple LSTM-based model**"
      ]
    },
    {
      "cell_type": "code",
      "execution_count": 15,
      "metadata": {
        "id": "MPQTKxXi_ekj",
        "outputId": "a1ef966a-abfb-4872-9f01-0d38beaefd29",
        "colab": {
          "base_uri": "https://localhost:8080/"
        }
      },
      "outputs": [
        {
          "output_type": "stream",
          "name": "stdout",
          "text": [
            "Epoch 1/10\n",
            "819/819 [==============================] - 45s 52ms/step - loss: 36.0336 - mae: 4.3618 - val_loss: 11.4912 - val_mae: 2.6080\n",
            "Epoch 2/10\n",
            "819/819 [==============================] - 43s 52ms/step - loss: 10.7512 - mae: 2.5467 - val_loss: 10.2330 - val_mae: 2.4476\n",
            "Epoch 3/10\n",
            "819/819 [==============================] - 44s 54ms/step - loss: 9.7873 - mae: 2.4395 - val_loss: 10.3430 - val_mae: 2.4371\n",
            "Epoch 4/10\n",
            "819/819 [==============================] - 42s 51ms/step - loss: 9.3321 - mae: 2.3814 - val_loss: 9.7103 - val_mae: 2.3975\n",
            "Epoch 5/10\n",
            "819/819 [==============================] - 42s 51ms/step - loss: 8.9823 - mae: 2.3362 - val_loss: 10.5346 - val_mae: 2.4578\n",
            "Epoch 6/10\n",
            "819/819 [==============================] - 42s 52ms/step - loss: 8.7489 - mae: 2.3069 - val_loss: 10.2783 - val_mae: 2.4284\n",
            "Epoch 7/10\n",
            "819/819 [==============================] - 42s 51ms/step - loss: 8.5195 - mae: 2.2752 - val_loss: 10.3376 - val_mae: 2.4643\n",
            "Epoch 8/10\n",
            "819/819 [==============================] - 41s 50ms/step - loss: 8.3619 - mae: 2.2531 - val_loss: 9.9306 - val_mae: 2.4274\n",
            "Epoch 9/10\n",
            "819/819 [==============================] - 42s 51ms/step - loss: 8.2166 - mae: 2.2379 - val_loss: 9.9463 - val_mae: 2.4332\n",
            "Epoch 10/10\n",
            "819/819 [==============================] - 42s 51ms/step - loss: 8.0847 - mae: 2.2219 - val_loss: 10.1825 - val_mae: 2.4598\n",
            "405/405 [==============================] - 14s 33ms/step - loss: 12.6605 - mae: 2.6279\n",
            "Test MAE: 2.63\n"
          ]
        }
      ],
      "source": [
        "inputs = keras.Input(shape=(sequence_length, raw_data.shape[-1]))\n",
        "x = layers.LSTM(16)(inputs)\n",
        "outputs = layers.Dense(1)(x)\n",
        "model = keras.Model(inputs, outputs)\n",
        "\n",
        "callbacks = [\n",
        "    keras.callbacks.ModelCheckpoint(\"jena_lstm.keras\",\n",
        "                                    save_best_only=True)\n",
        "]\n",
        "model.compile(optimizer=\"rmsprop\", loss=\"mse\", metrics=[\"mae\"])\n",
        "history = model.fit(train_dataset,\n",
        "                    epochs=10,\n",
        "                    validation_data=val_dataset,\n",
        "                    callbacks=callbacks)\n",
        "\n",
        "model = keras.models.load_model(\"jena_lstm.keras\")\n",
        "print(f\"Test MAE: {model.evaluate(test_dataset)[1]:.2f}\")"
      ]
    },
    {
      "cell_type": "markdown",
      "metadata": {
        "id": "14r4ieXa_ekk"
      },
      "source": [
        "## Understanding recurrent neural networks"
      ]
    },
    {
      "cell_type": "markdown",
      "metadata": {
        "id": "DArX53g0_ekk"
      },
      "source": [
        "**NumPy implementation of a simple RNN**"
      ]
    },
    {
      "cell_type": "code",
      "execution_count": 16,
      "metadata": {
        "id": "xZ4bHx_B_ekk"
      },
      "outputs": [],
      "source": [
        "import numpy as np\n",
        "timesteps = 100\n",
        "input_features = 32\n",
        "output_features = 64\n",
        "inputs = np.random.random((timesteps, input_features))\n",
        "state_t = np.zeros((output_features,))\n",
        "W = np.random.random((output_features, input_features))\n",
        "U = np.random.random((output_features, output_features))\n",
        "b = np.random.random((output_features,))\n",
        "successive_outputs = []\n",
        "for input_t in inputs:\n",
        "    output_t = np.tanh(np.dot(W, input_t) + np.dot(U, state_t) + b)\n",
        "    successive_outputs.append(output_t)\n",
        "    state_t = output_t\n",
        "final_output_sequence = np.stack(successive_outputs, axis=0)"
      ]
    },
    {
      "cell_type": "markdown",
      "metadata": {
        "id": "oJKC2IJn_ekk"
      },
      "source": [
        "### A recurrent layer in Keras"
      ]
    },
    {
      "cell_type": "markdown",
      "metadata": {
        "id": "lcvYO4hP_ekl"
      },
      "source": [
        "**An RNN layer that can process sequences of any length**"
      ]
    },
    {
      "cell_type": "code",
      "execution_count": 17,
      "metadata": {
        "id": "vUsgy2up_ekl"
      },
      "outputs": [],
      "source": [
        "num_features = 14\n",
        "inputs = keras.Input(shape=(None, num_features))\n",
        "outputs = layers.SimpleRNN(16)(inputs)"
      ]
    },
    {
      "cell_type": "markdown",
      "metadata": {
        "id": "wNpaaUOp_ekl"
      },
      "source": [
        "**An RNN layer that returns only its last output step**"
      ]
    },
    {
      "cell_type": "code",
      "execution_count": 18,
      "metadata": {
        "id": "oGoDFSLj_ekm",
        "outputId": "e17b550d-c6a2-465d-d4a4-6744004af0f1",
        "colab": {
          "base_uri": "https://localhost:8080/"
        }
      },
      "outputs": [
        {
          "output_type": "stream",
          "name": "stdout",
          "text": [
            "(None, 16)\n"
          ]
        }
      ],
      "source": [
        "num_features = 14\n",
        "steps = 120\n",
        "inputs = keras.Input(shape=(steps, num_features))\n",
        "outputs = layers.SimpleRNN(16, return_sequences=False)(inputs)\n",
        "print(outputs.shape)"
      ]
    },
    {
      "cell_type": "markdown",
      "metadata": {
        "id": "wyCaXo1z_ekm"
      },
      "source": [
        "**An RNN layer that returns its full output sequence**"
      ]
    },
    {
      "cell_type": "code",
      "execution_count": 19,
      "metadata": {
        "id": "zoxnr1Fx_ekm",
        "outputId": "d8e47f9c-b770-4171-fec7-6be540a4ec13",
        "colab": {
          "base_uri": "https://localhost:8080/"
        }
      },
      "outputs": [
        {
          "output_type": "stream",
          "name": "stdout",
          "text": [
            "(None, 120, 16)\n"
          ]
        }
      ],
      "source": [
        "num_features = 14\n",
        "steps = 120\n",
        "inputs = keras.Input(shape=(steps, num_features))\n",
        "outputs = layers.SimpleRNN(16, return_sequences=True)(inputs)\n",
        "print(outputs.shape)"
      ]
    },
    {
      "cell_type": "markdown",
      "metadata": {
        "id": "EKb9bak-_ekm"
      },
      "source": [
        "**Stacking RNN layers**"
      ]
    },
    {
      "cell_type": "code",
      "execution_count": 20,
      "metadata": {
        "id": "b7X2Per__ekm"
      },
      "outputs": [],
      "source": [
        "inputs = keras.Input(shape=(steps, num_features))\n",
        "x = layers.SimpleRNN(16, return_sequences=True)(inputs)\n",
        "x = layers.SimpleRNN(16, return_sequences=True)(x)\n",
        "outputs = layers.SimpleRNN(16)(x)"
      ]
    },
    {
      "cell_type": "markdown",
      "metadata": {
        "id": "MGSm2S-O_ekm"
      },
      "source": [
        "## Advanced use of recurrent neural networks"
      ]
    },
    {
      "cell_type": "markdown",
      "metadata": {
        "id": "-LWGg2KV_ekn"
      },
      "source": [
        "### Using recurrent dropout to fight overfitting"
      ]
    },
    {
      "cell_type": "markdown",
      "metadata": {
        "id": "EsgEbh6k_ekn"
      },
      "source": [
        "**Training and evaluating a dropout-regularized LSTM**"
      ]
    },
    {
      "cell_type": "code",
      "execution_count": null,
      "metadata": {
        "id": "W9D7EAmb_ekn",
        "outputId": "f3236dae-47e2-4c23-8797-c41c6353e63c",
        "colab": {
          "base_uri": "https://localhost:8080/"
        }
      },
      "outputs": [
        {
          "output_type": "stream",
          "name": "stderr",
          "text": [
            "WARNING:tensorflow:Layer lstm_1 will not use cuDNN kernels since it doesn't meet the criteria. It will use a generic GPU kernel as fallback when running on GPU.\n"
          ]
        },
        {
          "output_type": "stream",
          "name": "stdout",
          "text": [
            "Epoch 1/50\n",
            "819/819 [==============================] - 329s 399ms/step - loss: 26.5234 - mae: 3.8164 - val_loss: 10.0856 - val_mae: 2.4629\n",
            "Epoch 2/50\n",
            "819/819 [==============================] - 326s 398ms/step - loss: 14.9072 - mae: 2.9999 - val_loss: 9.6009 - val_mae: 2.4090\n",
            "Epoch 3/50\n",
            "819/819 [==============================] - 326s 398ms/step - loss: 13.9940 - mae: 2.9091 - val_loss: 9.8557 - val_mae: 2.4397\n",
            "Epoch 4/50\n",
            "819/819 [==============================] - 326s 398ms/step - loss: 13.3310 - mae: 2.8386 - val_loss: 9.6094 - val_mae: 2.4178\n",
            "Epoch 5/50\n",
            "819/819 [==============================] - 327s 399ms/step - loss: 12.9128 - mae: 2.7886 - val_loss: 9.5022 - val_mae: 2.3956\n",
            "Epoch 6/50\n",
            "819/819 [==============================] - 326s 398ms/step - loss: 12.5538 - mae: 2.7468 - val_loss: 9.3671 - val_mae: 2.3724\n",
            "Epoch 7/50\n",
            "819/819 [==============================] - 325s 397ms/step - loss: 12.2408 - mae: 2.7161 - val_loss: 9.2405 - val_mae: 2.3595\n",
            "Epoch 8/50\n",
            "819/819 [==============================] - 324s 396ms/step - loss: 12.0230 - mae: 2.6901 - val_loss: 9.3942 - val_mae: 2.3681\n",
            "Epoch 9/50\n",
            "819/819 [==============================] - 324s 395ms/step - loss: 11.7760 - mae: 2.6646 - val_loss: 9.2123 - val_mae: 2.3524\n",
            "Epoch 10/50\n",
            "819/819 [==============================] - 326s 398ms/step - loss: 11.6198 - mae: 2.6517 - val_loss: 9.4724 - val_mae: 2.3883\n",
            "Epoch 11/50\n",
            "819/819 [==============================] - 326s 398ms/step - loss: 11.4368 - mae: 2.6247 - val_loss: 9.1265 - val_mae: 2.3438\n",
            "Epoch 12/50\n",
            "819/819 [==============================] - 326s 397ms/step - loss: 11.3136 - mae: 2.6123 - val_loss: 9.2350 - val_mae: 2.3619\n",
            "Epoch 13/50\n",
            "819/819 [==============================] - 328s 400ms/step - loss: 11.1635 - mae: 2.5980 - val_loss: 9.2276 - val_mae: 2.3496\n",
            "Epoch 14/50\n",
            "819/819 [==============================] - 328s 400ms/step - loss: 11.0044 - mae: 2.5781 - val_loss: 9.3151 - val_mae: 2.3665\n",
            "Epoch 15/50\n",
            "819/819 [==============================] - 325s 397ms/step - loss: 10.9285 - mae: 2.5705 - val_loss: 9.8345 - val_mae: 2.4270\n",
            "Epoch 16/50\n",
            "819/819 [==============================] - 324s 395ms/step - loss: 10.7595 - mae: 2.5506 - val_loss: 9.3574 - val_mae: 2.3714\n",
            "Epoch 17/50\n",
            "819/819 [==============================] - 327s 399ms/step - loss: 10.7297 - mae: 2.5460 - val_loss: 9.4633 - val_mae: 2.3790\n",
            "Epoch 18/50\n",
            "819/819 [==============================] - 325s 397ms/step - loss: 10.5334 - mae: 2.5261 - val_loss: 9.5918 - val_mae: 2.4013\n",
            "Epoch 19/50\n",
            "819/819 [==============================] - 327s 400ms/step - loss: 10.4822 - mae: 2.5159 - val_loss: 9.6213 - val_mae: 2.4077\n",
            "Epoch 20/50\n",
            "819/819 [==============================] - 328s 400ms/step - loss: 10.3912 - mae: 2.5061 - val_loss: 9.5609 - val_mae: 2.3858\n",
            "Epoch 21/50\n",
            "819/819 [==============================] - 327s 399ms/step - loss: 10.2843 - mae: 2.4940 - val_loss: 9.7493 - val_mae: 2.4068\n",
            "Epoch 22/50\n",
            "819/819 [==============================] - 328s 401ms/step - loss: 10.2132 - mae: 2.4842 - val_loss: 10.1520 - val_mae: 2.4624\n",
            "Epoch 23/50\n",
            "819/819 [==============================] - 326s 397ms/step - loss: 10.1585 - mae: 2.4769 - val_loss: 9.9587 - val_mae: 2.4465\n",
            "Epoch 24/50\n",
            "819/819 [==============================] - 327s 399ms/step - loss: 10.0056 - mae: 2.4590 - val_loss: 10.1033 - val_mae: 2.4643\n",
            "Epoch 25/50\n",
            "819/819 [==============================] - 325s 397ms/step - loss: 9.9601 - mae: 2.4546 - val_loss: 10.2477 - val_mae: 2.4801\n",
            "Epoch 26/50\n",
            "819/819 [==============================] - 330s 402ms/step - loss: 9.8959 - mae: 2.4454 - val_loss: 10.0904 - val_mae: 2.4652\n",
            "Epoch 27/50\n",
            "819/819 [==============================] - 329s 401ms/step - loss: 9.8361 - mae: 2.4343 - val_loss: 9.9394 - val_mae: 2.4439\n",
            "Epoch 28/50\n",
            "819/819 [==============================] - 328s 400ms/step - loss: 9.7354 - mae: 2.4260 - val_loss: 10.3424 - val_mae: 2.4907\n",
            "Epoch 29/50\n",
            "819/819 [==============================] - 328s 400ms/step - loss: 9.6882 - mae: 2.4194 - val_loss: 10.2420 - val_mae: 2.4850\n",
            "Epoch 30/50\n",
            "819/819 [==============================] - 328s 400ms/step - loss: 9.5970 - mae: 2.4086 - val_loss: 11.2268 - val_mae: 2.5933\n",
            "Epoch 31/50\n",
            "819/819 [==============================] - 328s 400ms/step - loss: 9.5532 - mae: 2.4012 - val_loss: 10.3128 - val_mae: 2.4907\n",
            "Epoch 32/50\n",
            "819/819 [==============================] - 326s 398ms/step - loss: 9.5253 - mae: 2.3973 - val_loss: 10.7242 - val_mae: 2.5424\n",
            "Epoch 33/50\n",
            "819/819 [==============================] - 327s 399ms/step - loss: 9.5185 - mae: 2.3967 - val_loss: 10.5691 - val_mae: 2.5183\n",
            "Epoch 34/50\n",
            "819/819 [==============================] - 327s 399ms/step - loss: 9.4328 - mae: 2.3826 - val_loss: 10.5573 - val_mae: 2.5159\n",
            "Epoch 35/50\n",
            "372/819 [============>.................] - ETA: 2:46 - loss: 9.3672 - mae: 2.3766"
          ]
        }
      ],
      "source": [
        "inputs = keras.Input(shape=(sequence_length, raw_data.shape[-1]))\n",
        "x = layers.LSTM(32, recurrent_dropout=0.25)(inputs)\n",
        "x = layers.Dropout(0.5)(x)\n",
        "outputs = layers.Dense(1)(x)\n",
        "model = keras.Model(inputs, outputs)\n",
        "\n",
        "callbacks = [\n",
        "    keras.callbacks.ModelCheckpoint(\"jena_lstm_dropout.keras\",\n",
        "                                    save_best_only=True)\n",
        "]\n",
        "model.compile(optimizer=\"rmsprop\", loss=\"mse\", metrics=[\"mae\"])\n",
        "history = model.fit(train_dataset,\n",
        "                    epochs=50,\n",
        "                    validation_data=val_dataset,\n",
        "                    callbacks=callbacks)"
      ]
    },
    {
      "cell_type": "code",
      "execution_count": null,
      "metadata": {
        "id": "5C1G32QZ_ekn"
      },
      "outputs": [],
      "source": [
        "inputs = keras.Input(shape=(sequence_length, num_features))\n",
        "x = layers.LSTM(32, recurrent_dropout=0.2, unroll=True)(inputs)"
      ]
    },
    {
      "cell_type": "markdown",
      "metadata": {
        "id": "1ZlsB-OZ_ekn"
      },
      "source": [
        "### Stacking recurrent layers"
      ]
    },
    {
      "cell_type": "markdown",
      "metadata": {
        "id": "casKPuI2_eko"
      },
      "source": [
        "**Training and evaluating a dropout-regularized, stacked GRU model**"
      ]
    },
    {
      "cell_type": "code",
      "execution_count": null,
      "metadata": {
        "id": "lyY5vD-S_eko"
      },
      "outputs": [],
      "source": [
        "inputs = keras.Input(shape=(sequence_length, raw_data.shape[-1]))\n",
        "x = layers.GRU(32, recurrent_dropout=0.5, return_sequences=True)(inputs)\n",
        "x = layers.GRU(32, recurrent_dropout=0.5)(x)\n",
        "x = layers.Dropout(0.5)(x)\n",
        "outputs = layers.Dense(1)(x)\n",
        "model = keras.Model(inputs, outputs)\n",
        "\n",
        "callbacks = [\n",
        "    keras.callbacks.ModelCheckpoint(\"jena_stacked_gru_dropout.keras\",\n",
        "                                    save_best_only=True)\n",
        "]\n",
        "model.compile(optimizer=\"rmsprop\", loss=\"mse\", metrics=[\"mae\"])\n",
        "history = model.fit(train_dataset,\n",
        "                    epochs=50,\n",
        "                    validation_data=val_dataset,\n",
        "                    callbacks=callbacks)\n",
        "model = keras.models.load_model(\"jena_stacked_gru_dropout.keras\")\n",
        "print(f\"Test MAE: {model.evaluate(test_dataset)[1]:.2f}\")"
      ]
    },
    {
      "cell_type": "markdown",
      "metadata": {
        "id": "QudJ2bpq_eko"
      },
      "source": [
        "### Using bidirectional RNNs"
      ]
    },
    {
      "cell_type": "markdown",
      "metadata": {
        "id": "mzfim8Ov_eko"
      },
      "source": [
        "**Training and evaluating a bidirectional LSTM**"
      ]
    },
    {
      "cell_type": "code",
      "execution_count": null,
      "metadata": {
        "id": "rWWeZoqN_eko"
      },
      "outputs": [],
      "source": [
        "inputs = keras.Input(shape=(sequence_length, raw_data.shape[-1]))\n",
        "x = layers.Bidirectional(layers.LSTM(16))(inputs)\n",
        "outputs = layers.Dense(1)(x)\n",
        "model = keras.Model(inputs, outputs)\n",
        "\n",
        "model.compile(optimizer=\"rmsprop\", loss=\"mse\", metrics=[\"mae\"])\n",
        "history = model.fit(train_dataset,\n",
        "                    epochs=10,\n",
        "                    validation_data=val_dataset)"
      ]
    },
    {
      "cell_type": "markdown",
      "metadata": {
        "id": "oVzHCda2_eko"
      },
      "source": [
        "### Going even further"
      ]
    },
    {
      "cell_type": "markdown",
      "metadata": {
        "id": "feBTVZ9A_eko"
      },
      "source": [
        "## Summary"
      ]
    }
  ],
  "metadata": {
    "colab": {
      "name": "chapter10_dl-for-timeseries.i",
      "provenance": [],
      "toc_visible": true
    },
    "kernelspec": {
      "display_name": "Python 3",
      "language": "python",
      "name": "python3"
    },
    "language_info": {
      "codemirror_mode": {
        "name": "ipython",
        "version": 3
      },
      "file_extension": ".py",
      "mimetype": "text/x-python",
      "name": "python",
      "nbconvert_exporter": "python",
      "pygments_lexer": "ipython3",
      "version": "3.7.0"
    },
    "accelerator": "GPU",
    "gpuClass": "standard"
  },
  "nbformat": 4,
  "nbformat_minor": 0
}