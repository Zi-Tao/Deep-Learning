{
  "cells": [
    {
      "cell_type": "markdown",
      "metadata": {
        "id": "CCYnvFc3XFhp"
      },
      "source": [
        "## 深度學習 - 樣型識別5"
      ]
    },
    {
      "cell_type": "markdown",
      "metadata": {
        "id": "sS7jV3M3W6Bp"
      },
      "source": [
        "**Adding white-noise channels or all-zeros channels to MNIST**"
      ]
    },
    {
      "cell_type": "code",
      "execution_count": 1,
      "metadata": {
        "colab": {
          "base_uri": "https://localhost:8080/"
        },
        "id": "JNKjAn1xW6Bq",
        "outputId": "cfafdc61-6328-4d4e-cc00-0220dc128646"
      },
      "outputs": [
        {
          "name": "stdout",
          "output_type": "stream",
          "text": [
            "Downloading data from https://storage.googleapis.com/tensorflow/tf-keras-datasets/mnist.npz\n",
            "11490434/11490434 [==============================] - 0s 0us/step\n"
          ]
        }
      ],
      "source": [
        "from tensorflow.keras.datasets import mnist\n",
        "import numpy as np\n",
        "\n",
        "(train_images, train_labels), _ = mnist.load_data()\n",
        "train_images = train_images.reshape((60000, 28 * 28))\n",
        "train_images = train_images.astype(\"float32\") / 255\n",
        "\n",
        "train_images_with_noise_channels = np.concatenate(\n",
        "    [train_images, np.random.random((len(train_images), 784))], axis=1)\n",
        "\n",
        "train_images_with_zeros_channels = np.concatenate(\n",
        "    [train_images, np.zeros((len(train_images), 784))], axis=1)"
      ]
    },
    {
      "cell_type": "markdown",
      "metadata": {
        "id": "ZaVEeSg1W6Br"
      },
      "source": [
        "**Training the same model on MNIST data with noise channels or all-zero channels**"
      ]
    },
    {
      "cell_type": "code",
      "execution_count": 2,
      "metadata": {
        "colab": {
          "base_uri": "https://localhost:8080/"
        },
        "id": "2Oku0mitW6Br",
        "outputId": "ba8a6090-b5c6-4681-c92e-abbb676f4b74"
      },
      "outputs": [
        {
          "name": "stdout",
          "output_type": "stream",
          "text": [
            "Epoch 1/10\n",
            "375/375 [==============================] - 16s 39ms/step - loss: 0.6304 - accuracy: 0.8095 - val_loss: 0.3913 - val_accuracy: 0.8670\n",
            "Epoch 2/10\n",
            "375/375 [==============================] - 8s 21ms/step - loss: 0.2553 - accuracy: 0.9204 - val_loss: 0.1907 - val_accuracy: 0.9425\n",
            "Epoch 3/10\n",
            "375/375 [==============================] - 7s 20ms/step - loss: 0.1683 - accuracy: 0.9480 - val_loss: 0.1495 - val_accuracy: 0.9569\n",
            "Epoch 4/10\n",
            "375/375 [==============================] - 8s 20ms/step - loss: 0.1181 - accuracy: 0.9635 - val_loss: 0.1462 - val_accuracy: 0.9564\n",
            "Epoch 5/10\n",
            "375/375 [==============================] - 8s 20ms/step - loss: 0.0871 - accuracy: 0.9726 - val_loss: 0.1394 - val_accuracy: 0.9578\n",
            "Epoch 6/10\n",
            "375/375 [==============================] - 8s 20ms/step - loss: 0.0643 - accuracy: 0.9798 - val_loss: 0.1265 - val_accuracy: 0.9640\n",
            "Epoch 7/10\n",
            "375/375 [==============================] - 8s 21ms/step - loss: 0.0478 - accuracy: 0.9846 - val_loss: 0.1429 - val_accuracy: 0.9620\n",
            "Epoch 8/10\n",
            "375/375 [==============================] - 8s 20ms/step - loss: 0.0360 - accuracy: 0.9884 - val_loss: 0.1499 - val_accuracy: 0.9600\n",
            "Epoch 9/10\n",
            "375/375 [==============================] - 8s 20ms/step - loss: 0.0259 - accuracy: 0.9916 - val_loss: 0.1204 - val_accuracy: 0.9690\n",
            "Epoch 10/10\n",
            "375/375 [==============================] - 8s 20ms/step - loss: 0.0213 - accuracy: 0.9929 - val_loss: 0.1290 - val_accuracy: 0.9693\n",
            "Epoch 1/10\n",
            "375/375 [==============================] - 8s 21ms/step - loss: 0.2919 - accuracy: 0.9154 - val_loss: 0.1492 - val_accuracy: 0.9570\n",
            "Epoch 2/10\n",
            "375/375 [==============================] - 8s 20ms/step - loss: 0.1192 - accuracy: 0.9647 - val_loss: 0.1090 - val_accuracy: 0.9690\n",
            "Epoch 3/10\n",
            "375/375 [==============================] - 8s 20ms/step - loss: 0.0781 - accuracy: 0.9772 - val_loss: 0.0908 - val_accuracy: 0.9726\n",
            "Epoch 4/10\n",
            "375/375 [==============================] - 9s 25ms/step - loss: 0.0565 - accuracy: 0.9836 - val_loss: 0.0862 - val_accuracy: 0.9747\n",
            "Epoch 5/10\n",
            "375/375 [==============================] - 8s 22ms/step - loss: 0.0417 - accuracy: 0.9881 - val_loss: 0.0816 - val_accuracy: 0.9761\n",
            "Epoch 6/10\n",
            "375/375 [==============================] - 8s 20ms/step - loss: 0.0318 - accuracy: 0.9912 - val_loss: 0.0771 - val_accuracy: 0.9783\n",
            "Epoch 7/10\n",
            "375/375 [==============================] - 8s 20ms/step - loss: 0.0244 - accuracy: 0.9931 - val_loss: 0.0792 - val_accuracy: 0.9787\n",
            "Epoch 8/10\n",
            "375/375 [==============================] - 8s 20ms/step - loss: 0.0187 - accuracy: 0.9944 - val_loss: 0.0801 - val_accuracy: 0.9797\n",
            "Epoch 9/10\n",
            "375/375 [==============================] - 8s 21ms/step - loss: 0.0139 - accuracy: 0.9959 - val_loss: 0.0811 - val_accuracy: 0.9800\n",
            "Epoch 10/10\n",
            "375/375 [==============================] - 8s 21ms/step - loss: 0.0109 - accuracy: 0.9969 - val_loss: 0.0891 - val_accuracy: 0.9802\n"
          ]
        }
      ],
      "source": [
        "from tensorflow import keras\n",
        "from tensorflow.keras import layers\n",
        "\n",
        "def get_model():\n",
        "    model = keras.Sequential([\n",
        "        layers.Dense(512, activation=\"relu\"),\n",
        "        layers.Dense(10, activation=\"softmax\")\n",
        "    ])\n",
        "    model.compile(optimizer=\"rmsprop\",\n",
        "                  loss=\"sparse_categorical_crossentropy\",\n",
        "                  metrics=[\"accuracy\"])\n",
        "    return model\n",
        "\n",
        "model = get_model()\n",
        "history_noise = model.fit(\n",
        "    train_images_with_noise_channels, train_labels,\n",
        "    epochs=10,\n",
        "    batch_size=128,\n",
        "    validation_split=0.2)\n",
        "\n",
        "model = get_model()\n",
        "history_zeros = model.fit(\n",
        "    train_images_with_zeros_channels, train_labels,\n",
        "    epochs=10,\n",
        "    batch_size=128,\n",
        "    validation_split=0.2)"
      ]
    },
    {
      "cell_type": "markdown",
      "metadata": {
        "id": "UA8TaI--W6Bs"
      },
      "source": [
        "**Plotting a validation accuracy comparison**"
      ]
    },
    {
      "cell_type": "code",
      "execution_count": 3,
      "metadata": {
        "colab": {
          "base_uri": "https://localhost:8080/",
          "height": 312
        },
        "id": "UEvK3LgGW6Bt",
        "outputId": "e055500f-2cee-4a89-e258-fabe6158f2b5"
      },
      "outputs": [
        {
          "data": {
            "text/plain": [
              "<matplotlib.legend.Legend at 0x7f2782893690>"
            ]
          },
          "execution_count": 3,
          "metadata": {},
          "output_type": "execute_result"
        },
        {
          "data": {
            "image/png": "[encoded data removed]",
            "text/plain": [
              "<Figure size 432x288 with 1 Axes>"
            ]
          },
          "metadata": {
            "needs_background": "light"
          },
          "output_type": "display_data"
        }
      ],
      "source": [
        "import matplotlib.pyplot as plt\n",
        "val_acc_noise = history_noise.history[\"val_accuracy\"]\n",
        "val_acc_zeros = history_zeros.history[\"val_accuracy\"]\n",
        "epochs = range(1, 11)\n",
        "plt.plot(epochs, val_acc_noise, \"b-\",\n",
        "         label=\"Validation accuracy with noise channels\")\n",
        "plt.plot(epochs, val_acc_zeros, \"b--\",\n",
        "         label=\"Validation accuracy with zeros channels\")\n",
        "plt.title(\"Effect of noise channels on validation accuracy\")\n",
        "plt.xlabel(\"Epochs\")\n",
        "plt.ylabel(\"Accuracy\")\n",
        "plt.legend()"
      ]
    },
    {
      "cell_type": "markdown",
      "metadata": {
        "id": "6nkEzcS5W6Bt"
      },
      "source": [
        "### The nature of generalization in deep learning"
      ]
    },
    {
      "cell_type": "markdown",
      "metadata": {
        "id": "kaSS95fDW6Bt"
      },
      "source": [
        "**Fitting a MNIST model with randomly shuffled labels**"
      ]
    },
    {
      "cell_type": "code",
      "execution_count": 4,
      "metadata": {
        "colab": {
          "base_uri": "https://localhost:8080/"
        },
        "id": "Sd-q2Do4W6Bu",
        "outputId": "d944b614-ea8c-455e-cfe8-db7bf36332c0"
      },
      "outputs": [
        {
          "name": "stdout",
          "output_type": "stream",
          "text": [
            "Epoch 1/100\n",
            "375/375 [==============================] - 5s 13ms/step - loss: 2.3162 - accuracy: 0.1045 - val_loss: 2.3065 - val_accuracy: 0.1058\n",
            "Epoch 2/100\n",
            "375/375 [==============================] - 5s 12ms/step - loss: 2.2993 - accuracy: 0.1168 - val_loss: 2.3107 - val_accuracy: 0.1022\n",
            "Epoch 3/100\n",
            "375/375 [==============================] - 5s 12ms/step - loss: 2.2907 - accuracy: 0.1284 - val_loss: 2.3121 - val_accuracy: 0.1053\n",
            "Epoch 4/100\n",
            "375/375 [==============================] - 5s 13ms/step - loss: 2.2762 - accuracy: 0.1408 - val_loss: 2.3201 - val_accuracy: 0.1048\n",
            "Epoch 5/100\n",
            "375/375 [==============================] - 5s 12ms/step - loss: 2.2589 - accuracy: 0.1545 - val_loss: 2.3338 - val_accuracy: 0.1045\n",
            "Epoch 6/100\n",
            "375/375 [==============================] - 5s 12ms/step - loss: 2.2374 - accuracy: 0.1704 - val_loss: 2.3521 - val_accuracy: 0.1070\n",
            "Epoch 7/100\n",
            "375/375 [==============================] - 5s 12ms/step - loss: 2.2127 - accuracy: 0.1824 - val_loss: 2.3657 - val_accuracy: 0.1063\n",
            "Epoch 8/100\n",
            "375/375 [==============================] - 5s 12ms/step - loss: 2.1862 - accuracy: 0.1996 - val_loss: 2.3812 - val_accuracy: 0.1037\n",
            "Epoch 9/100\n",
            "375/375 [==============================] - 5s 12ms/step - loss: 2.1554 - accuracy: 0.2153 - val_loss: 2.3957 - val_accuracy: 0.0995\n",
            "Epoch 10/100\n",
            "375/375 [==============================] - 5s 12ms/step - loss: 2.1230 - accuracy: 0.2327 - val_loss: 2.4244 - val_accuracy: 0.1075\n",
            "Epoch 11/100\n",
            "375/375 [==============================] - 5s 13ms/step - loss: 2.0910 - accuracy: 0.2465 - val_loss: 2.4443 - val_accuracy: 0.1027\n",
            "Epoch 12/100\n",
            "375/375 [==============================] - 5s 12ms/step - loss: 2.0562 - accuracy: 0.2649 - val_loss: 2.4714 - val_accuracy: 0.1023\n",
            "Epoch 13/100\n",
            "375/375 [==============================] - 5s 12ms/step - loss: 2.0232 - accuracy: 0.2799 - val_loss: 2.4938 - val_accuracy: 0.1051\n",
            "Epoch 14/100\n",
            "375/375 [==============================] - 5s 13ms/step - loss: 1.9873 - accuracy: 0.2943 - val_loss: 2.5414 - val_accuracy: 0.1007\n",
            "Epoch 15/100\n",
            "375/375 [==============================] - 5s 12ms/step - loss: 1.9551 - accuracy: 0.3083 - val_loss: 2.5661 - val_accuracy: 0.0979\n",
            "Epoch 16/100\n",
            "375/375 [==============================] - 5s 13ms/step - loss: 1.9193 - accuracy: 0.3220 - val_loss: 2.5989 - val_accuracy: 0.0993\n",
            "Epoch 17/100\n",
            "375/375 [==============================] - 5s 13ms/step - loss: 1.8854 - accuracy: 0.3355 - val_loss: 2.6383 - val_accuracy: 0.0989\n",
            "Epoch 18/100\n",
            "375/375 [==============================] - 6s 16ms/step - loss: 1.8506 - accuracy: 0.3520 - val_loss: 2.6562 - val_accuracy: 0.1023\n",
            "Epoch 19/100\n",
            "375/375 [==============================] - 5s 13ms/step - loss: 1.8192 - accuracy: 0.3638 - val_loss: 2.7087 - val_accuracy: 0.0997\n",
            "Epoch 20/100\n",
            "375/375 [==============================] - 5s 12ms/step - loss: 1.7873 - accuracy: 0.3760 - val_loss: 2.7353 - val_accuracy: 0.1030\n",
            "Epoch 21/100\n",
            "375/375 [==============================] - 5s 13ms/step - loss: 1.7542 - accuracy: 0.3886 - val_loss: 2.7739 - val_accuracy: 0.1026\n",
            "Epoch 22/100\n",
            "375/375 [==============================] - 5s 13ms/step - loss: 1.7228 - accuracy: 0.3982 - val_loss: 2.8208 - val_accuracy: 0.1052\n",
            "Epoch 23/100\n",
            "375/375 [==============================] - 5s 13ms/step - loss: 1.6910 - accuracy: 0.4127 - val_loss: 2.8568 - val_accuracy: 0.1015\n",
            "Epoch 24/100\n",
            "375/375 [==============================] - 5s 13ms/step - loss: 1.6632 - accuracy: 0.4250 - val_loss: 2.8905 - val_accuracy: 0.1027\n",
            "Epoch 25/100\n",
            "375/375 [==============================] - 5s 13ms/step - loss: 1.6328 - accuracy: 0.4329 - val_loss: 2.9380 - val_accuracy: 0.1022\n",
            "Epoch 26/100\n",
            "375/375 [==============================] - 5s 13ms/step - loss: 1.6030 - accuracy: 0.4454 - val_loss: 2.9699 - val_accuracy: 0.1006\n",
            "Epoch 27/100\n",
            "375/375 [==============================] - 5s 13ms/step - loss: 1.5759 - accuracy: 0.4579 - val_loss: 3.0087 - val_accuracy: 0.1002\n",
            "Epoch 28/100\n",
            "375/375 [==============================] - 5s 12ms/step - loss: 1.5459 - accuracy: 0.4674 - val_loss: 3.0628 - val_accuracy: 0.1048\n",
            "Epoch 29/100\n",
            "375/375 [==============================] - 5s 13ms/step - loss: 1.5202 - accuracy: 0.4765 - val_loss: 3.0951 - val_accuracy: 0.1030\n",
            "Epoch 30/100\n",
            "375/375 [==============================] - 5s 13ms/step - loss: 1.4934 - accuracy: 0.4857 - val_loss: 3.1479 - val_accuracy: 0.1018\n",
            "Epoch 31/100\n",
            "375/375 [==============================] - 5s 13ms/step - loss: 1.4660 - accuracy: 0.4975 - val_loss: 3.2126 - val_accuracy: 0.1033\n",
            "Epoch 32/100\n",
            "375/375 [==============================] - 5s 13ms/step - loss: 1.4414 - accuracy: 0.5082 - val_loss: 3.2557 - val_accuracy: 0.1001\n",
            "Epoch 33/100\n",
            "375/375 [==============================] - 5s 13ms/step - loss: 1.4168 - accuracy: 0.5164 - val_loss: 3.2763 - val_accuracy: 0.1012\n",
            "Epoch 34/100\n",
            "375/375 [==============================] - 5s 12ms/step - loss: 1.3916 - accuracy: 0.5212 - val_loss: 3.3527 - val_accuracy: 0.0977\n",
            "Epoch 35/100\n",
            "375/375 [==============================] - 5s 13ms/step - loss: 1.3702 - accuracy: 0.5332 - val_loss: 3.4335 - val_accuracy: 0.1030\n",
            "Epoch 36/100\n",
            "375/375 [==============================] - 5s 13ms/step - loss: 1.3438 - accuracy: 0.5422 - val_loss: 3.4594 - val_accuracy: 0.0983\n",
            "Epoch 37/100\n",
            "375/375 [==============================] - 5s 13ms/step - loss: 1.3242 - accuracy: 0.5506 - val_loss: 3.4942 - val_accuracy: 0.1024\n",
            "Epoch 38/100\n",
            "375/375 [==============================] - 5s 13ms/step - loss: 1.2991 - accuracy: 0.5589 - val_loss: 3.5327 - val_accuracy: 0.0985\n",
            "Epoch 39/100\n",
            "375/375 [==============================] - 5s 13ms/step - loss: 1.2794 - accuracy: 0.5640 - val_loss: 3.5757 - val_accuracy: 0.1021\n",
            "Epoch 40/100\n",
            "375/375 [==============================] - 5s 13ms/step - loss: 1.2588 - accuracy: 0.5724 - val_loss: 3.6238 - val_accuracy: 0.1009\n",
            "Epoch 41/100\n",
            "375/375 [==============================] - 5s 14ms/step - loss: 1.2372 - accuracy: 0.5786 - val_loss: 3.7087 - val_accuracy: 0.0991\n",
            "Epoch 42/100\n",
            "375/375 [==============================] - 5s 13ms/step - loss: 1.2168 - accuracy: 0.5876 - val_loss: 3.7561 - val_accuracy: 0.1012\n",
            "Epoch 43/100\n",
            "375/375 [==============================] - 5s 13ms/step - loss: 1.1964 - accuracy: 0.5946 - val_loss: 3.8015 - val_accuracy: 0.0986\n",
            "Epoch 44/100\n",
            "375/375 [==============================] - 5s 14ms/step - loss: 1.1779 - accuracy: 0.6017 - val_loss: 3.8397 - val_accuracy: 0.0987\n",
            "Epoch 45/100\n",
            "375/375 [==============================] - 5s 14ms/step - loss: 1.1578 - accuracy: 0.6085 - val_loss: 3.9269 - val_accuracy: 0.1001\n",
            "Epoch 46/100\n",
            "375/375 [==============================] - 6s 15ms/step - loss: 1.1392 - accuracy: 0.6162 - val_loss: 3.9713 - val_accuracy: 0.1018\n",
            "Epoch 47/100\n",
            "375/375 [==============================] - 5s 13ms/step - loss: 1.1191 - accuracy: 0.6227 - val_loss: 3.9792 - val_accuracy: 0.1019\n",
            "Epoch 48/100\n",
            "375/375 [==============================] - 5s 13ms/step - loss: 1.1013 - accuracy: 0.6273 - val_loss: 4.0813 - val_accuracy: 0.0987\n",
            "Epoch 49/100\n",
            "375/375 [==============================] - 5s 13ms/step - loss: 1.0835 - accuracy: 0.6371 - val_loss: 4.1431 - val_accuracy: 0.0934\n",
            "Epoch 50/100\n",
            "375/375 [==============================] - 5s 13ms/step - loss: 1.0678 - accuracy: 0.6398 - val_loss: 4.1580 - val_accuracy: 0.0979\n",
            "Epoch 51/100\n",
            "375/375 [==============================] - 5s 12ms/step - loss: 1.0486 - accuracy: 0.6475 - val_loss: 4.2402 - val_accuracy: 0.1017\n",
            "Epoch 52/100\n",
            "375/375 [==============================] - 7s 18ms/step - loss: 1.0336 - accuracy: 0.6524 - val_loss: 4.3122 - val_accuracy: 0.0986\n",
            "Epoch 53/100\n",
            "375/375 [==============================] - 5s 13ms/step - loss: 1.0176 - accuracy: 0.6584 - val_loss: 4.3493 - val_accuracy: 0.1005\n",
            "Epoch 54/100\n",
            "375/375 [==============================] - 5s 13ms/step - loss: 1.0018 - accuracy: 0.6648 - val_loss: 4.4120 - val_accuracy: 0.0992\n",
            "Epoch 55/100\n",
            "375/375 [==============================] - 5s 12ms/step - loss: 0.9835 - accuracy: 0.6707 - val_loss: 4.4760 - val_accuracy: 0.1027\n",
            "Epoch 56/100\n",
            "375/375 [==============================] - 5s 13ms/step - loss: 0.9672 - accuracy: 0.6749 - val_loss: 4.5416 - val_accuracy: 0.1008\n",
            "Epoch 57/100\n",
            "375/375 [==============================] - 5s 13ms/step - loss: 0.9554 - accuracy: 0.6804 - val_loss: 4.5688 - val_accuracy: 0.0983\n",
            "Epoch 58/100\n",
            "375/375 [==============================] - 5s 12ms/step - loss: 0.9416 - accuracy: 0.6867 - val_loss: 4.6627 - val_accuracy: 0.0993\n",
            "Epoch 59/100\n",
            "375/375 [==============================] - 5s 13ms/step - loss: 0.9251 - accuracy: 0.6885 - val_loss: 4.7109 - val_accuracy: 0.1006\n",
            "Epoch 60/100\n",
            "375/375 [==============================] - 5s 13ms/step - loss: 0.9098 - accuracy: 0.6978 - val_loss: 4.7693 - val_accuracy: 0.1029\n",
            "Epoch 61/100\n",
            "375/375 [==============================] - 5s 13ms/step - loss: 0.8966 - accuracy: 0.6991 - val_loss: 4.8210 - val_accuracy: 0.0989\n",
            "Epoch 62/100\n",
            "375/375 [==============================] - 5s 13ms/step - loss: 0.8806 - accuracy: 0.7082 - val_loss: 4.8955 - val_accuracy: 0.1028\n",
            "Epoch 63/100\n",
            "375/375 [==============================] - 5s 13ms/step - loss: 0.8677 - accuracy: 0.7140 - val_loss: 4.9819 - val_accuracy: 0.1028\n",
            "Epoch 64/100\n",
            "375/375 [==============================] - 5s 12ms/step - loss: 0.8561 - accuracy: 0.7175 - val_loss: 5.0178 - val_accuracy: 0.0990\n",
            "Epoch 65/100\n",
            "375/375 [==============================] - 5s 13ms/step - loss: 0.8406 - accuracy: 0.7207 - val_loss: 5.0702 - val_accuracy: 0.0978\n",
            "Epoch 66/100\n",
            "375/375 [==============================] - 5s 13ms/step - loss: 0.8294 - accuracy: 0.7256 - val_loss: 5.0920 - val_accuracy: 0.1018\n",
            "Epoch 67/100\n",
            "375/375 [==============================] - 5s 13ms/step - loss: 0.8166 - accuracy: 0.7318 - val_loss: 5.1665 - val_accuracy: 0.1027\n",
            "Epoch 68/100\n",
            "375/375 [==============================] - 5s 12ms/step - loss: 0.8039 - accuracy: 0.7322 - val_loss: 5.2544 - val_accuracy: 0.0993\n",
            "Epoch 69/100\n",
            "375/375 [==============================] - 5s 13ms/step - loss: 0.7894 - accuracy: 0.7391 - val_loss: 5.3136 - val_accuracy: 0.0976\n",
            "Epoch 70/100\n",
            "375/375 [==============================] - 5s 13ms/step - loss: 0.7777 - accuracy: 0.7423 - val_loss: 5.3699 - val_accuracy: 0.0989\n",
            "Epoch 71/100\n",
            "375/375 [==============================] - 5s 13ms/step - loss: 0.7671 - accuracy: 0.7479 - val_loss: 5.4489 - val_accuracy: 0.1003\n",
            "Epoch 72/100\n",
            "375/375 [==============================] - 5s 13ms/step - loss: 0.7537 - accuracy: 0.7498 - val_loss: 5.4930 - val_accuracy: 0.0999\n",
            "Epoch 73/100\n",
            "375/375 [==============================] - 6s 16ms/step - loss: 0.7444 - accuracy: 0.7566 - val_loss: 5.5915 - val_accuracy: 0.0957\n",
            "Epoch 74/100\n",
            "375/375 [==============================] - 5s 13ms/step - loss: 0.7303 - accuracy: 0.7602 - val_loss: 5.6971 - val_accuracy: 0.0987\n",
            "Epoch 75/100\n",
            "375/375 [==============================] - 5s 13ms/step - loss: 0.7222 - accuracy: 0.7628 - val_loss: 5.7033 - val_accuracy: 0.0989\n",
            "Epoch 76/100\n",
            "375/375 [==============================] - 5s 12ms/step - loss: 0.7093 - accuracy: 0.7673 - val_loss: 5.7934 - val_accuracy: 0.0981\n",
            "Epoch 77/100\n",
            "375/375 [==============================] - 5s 13ms/step - loss: 0.7005 - accuracy: 0.7702 - val_loss: 5.8472 - val_accuracy: 0.0998\n",
            "Epoch 78/100\n",
            "375/375 [==============================] - 5s 13ms/step - loss: 0.6890 - accuracy: 0.7747 - val_loss: 5.9023 - val_accuracy: 0.1008\n",
            "Epoch 79/100\n",
            "375/375 [==============================] - 5s 13ms/step - loss: 0.6813 - accuracy: 0.7752 - val_loss: 5.9850 - val_accuracy: 0.1008\n",
            "Epoch 80/100\n",
            "375/375 [==============================] - 5s 12ms/step - loss: 0.6664 - accuracy: 0.7840 - val_loss: 6.0160 - val_accuracy: 0.0996\n",
            "Epoch 81/100\n",
            "375/375 [==============================] - 5s 13ms/step - loss: 0.6607 - accuracy: 0.7829 - val_loss: 6.0913 - val_accuracy: 0.1008\n",
            "Epoch 82/100\n",
            "375/375 [==============================] - 5s 12ms/step - loss: 0.6480 - accuracy: 0.7903 - val_loss: 6.1608 - val_accuracy: 0.0980\n",
            "Epoch 83/100\n",
            "375/375 [==============================] - 5s 12ms/step - loss: 0.6389 - accuracy: 0.7923 - val_loss: 6.2587 - val_accuracy: 0.0997\n",
            "Epoch 84/100\n",
            "375/375 [==============================] - 5s 12ms/step - loss: 0.6299 - accuracy: 0.7946 - val_loss: 6.2984 - val_accuracy: 0.0976\n",
            "Epoch 85/100\n",
            "375/375 [==============================] - 5s 13ms/step - loss: 0.6214 - accuracy: 0.7977 - val_loss: 6.3938 - val_accuracy: 0.1003\n",
            "Epoch 86/100\n",
            "375/375 [==============================] - 5s 13ms/step - loss: 0.6109 - accuracy: 0.8030 - val_loss: 6.4380 - val_accuracy: 0.0990\n",
            "Epoch 87/100\n",
            "375/375 [==============================] - 5s 13ms/step - loss: 0.6038 - accuracy: 0.8031 - val_loss: 6.5486 - val_accuracy: 0.0970\n",
            "Epoch 88/100\n",
            "375/375 [==============================] - 5s 13ms/step - loss: 0.5930 - accuracy: 0.8074 - val_loss: 6.5583 - val_accuracy: 0.1004\n",
            "Epoch 89/100\n",
            "375/375 [==============================] - 5s 13ms/step - loss: 0.5844 - accuracy: 0.8116 - val_loss: 6.6362 - val_accuracy: 0.1007\n",
            "Epoch 90/100\n",
            "375/375 [==============================] - 5s 13ms/step - loss: 0.5769 - accuracy: 0.8125 - val_loss: 6.7167 - val_accuracy: 0.1007\n",
            "Epoch 91/100\n",
            "375/375 [==============================] - 5s 13ms/step - loss: 0.5670 - accuracy: 0.8162 - val_loss: 6.7487 - val_accuracy: 0.0976\n",
            "Epoch 92/100\n",
            "375/375 [==============================] - 5s 13ms/step - loss: 0.5585 - accuracy: 0.8199 - val_loss: 6.9070 - val_accuracy: 0.0991\n",
            "Epoch 93/100\n",
            "375/375 [==============================] - 5s 12ms/step - loss: 0.5518 - accuracy: 0.8213 - val_loss: 6.9272 - val_accuracy: 0.0997\n",
            "Epoch 94/100\n",
            "375/375 [==============================] - 5s 12ms/step - loss: 0.5449 - accuracy: 0.8242 - val_loss: 6.9990 - val_accuracy: 0.0988\n",
            "Epoch 95/100\n",
            "375/375 [==============================] - 5s 12ms/step - loss: 0.5365 - accuracy: 0.8284 - val_loss: 7.0765 - val_accuracy: 0.0969\n",
            "Epoch 96/100\n",
            "375/375 [==============================] - 5s 13ms/step - loss: 0.5279 - accuracy: 0.8296 - val_loss: 7.1330 - val_accuracy: 0.0982\n",
            "Epoch 97/100\n",
            "375/375 [==============================] - 5s 13ms/step - loss: 0.5217 - accuracy: 0.8326 - val_loss: 7.1765 - val_accuracy: 0.0982\n",
            "Epoch 98/100\n",
            "375/375 [==============================] - 5s 13ms/step - loss: 0.5147 - accuracy: 0.8345 - val_loss: 7.2917 - val_accuracy: 0.1008\n",
            "Epoch 99/100\n",
            "375/375 [==============================] - 5s 13ms/step - loss: 0.5054 - accuracy: 0.8385 - val_loss: 7.3339 - val_accuracy: 0.0984\n",
            "Epoch 100/100\n",
            "375/375 [==============================] - 5s 12ms/step - loss: 0.4987 - accuracy: 0.8407 - val_loss: 7.3852 - val_accuracy: 0.0982\n"
          ]
        },
        {
          "data": {
            "text/plain": [
              "<keras.callbacks.History at 0x7f27869a7d10>"
            ]
          },
          "execution_count": 4,
          "metadata": {},
          "output_type": "execute_result"
        }
      ],
      "source": [
        "(train_images, train_labels), _ = mnist.load_data()\n",
        "train_images = train_images.reshape((60000, 28 * 28))\n",
        "train_images = train_images.astype(\"float32\") / 255\n",
        "\n",
        "random_train_labels = train_labels[:]\n",
        "np.random.shuffle(random_train_labels)\n",
        "\n",
        "model = keras.Sequential([\n",
        "    layers.Dense(512, activation=\"relu\"),\n",
        "    layers.Dense(10, activation=\"softmax\")\n",
        "])\n",
        "model.compile(optimizer=\"rmsprop\",\n",
        "              loss=\"sparse_categorical_crossentropy\",\n",
        "              metrics=[\"accuracy\"])\n",
        "model.fit(train_images, random_train_labels,\n",
        "          epochs=100,\n",
        "          batch_size=128,\n",
        "          validation_split=0.2)"
      ]
    },
    {
      "cell_type": "markdown",
      "metadata": {
        "id": "WwbxQaF6W6Bu"
      },
      "source": [
        "#### The manifold hypothesis"
      ]
    },
    {
      "cell_type": "markdown",
      "metadata": {
        "id": "U9G2ILjWW6Bu"
      },
      "source": [
        "#### Interpolation as a source of generalization"
      ]
    },
    {
      "cell_type": "markdown",
      "metadata": {
        "id": "mWtLLHwSW6Bv"
      },
      "source": [
        "#### Why deep learning works"
      ]
    },
    {
      "cell_type": "markdown",
      "metadata": {
        "id": "NXEiytqrW6Bv"
      },
      "source": [
        "#### Training data is paramount"
      ]
    },
    {
      "cell_type": "markdown",
      "metadata": {
        "id": "YWtkYLBkW6Bv"
      },
      "source": [
        "## Evaluating machine-learning models"
      ]
    },
    {
      "cell_type": "markdown",
      "metadata": {
        "id": "PItDpbbSW6Bv"
      },
      "source": [
        "### Training, validation, and test sets"
      ]
    },
    {
      "cell_type": "markdown",
      "metadata": {
        "id": "mXhP-gMOW6Bw"
      },
      "source": [
        "#### Simple hold-out validation"
      ]
    },
    {
      "cell_type": "markdown",
      "metadata": {
        "id": "HD6kK6JqW6Bw"
      },
      "source": [
        "#### K-fold validation"
      ]
    },
    {
      "cell_type": "markdown",
      "metadata": {
        "id": "AXRMJvLIW6Bw"
      },
      "source": [
        "#### Iterated K-fold validation with shuffling"
      ]
    },
    {
      "cell_type": "markdown",
      "metadata": {
        "id": "J8KCDWX2W6Bw"
      },
      "source": [
        "### Beating a common-sense baseline"
      ]
    },
    {
      "cell_type": "markdown",
      "metadata": {
        "id": "XQ_doCqJW6Bx"
      },
      "source": [
        "### Things to keep in mind about model evaluation"
      ]
    },
    {
      "cell_type": "markdown",
      "metadata": {
        "id": "70Z7b8yyW6Bx"
      },
      "source": [
        "## Improving model fit"
      ]
    },
    {
      "cell_type": "markdown",
      "metadata": {
        "id": "SWTgIFXXW6Bx"
      },
      "source": [
        "### Tuning key gradient descent parameters"
      ]
    },
    {
      "cell_type": "markdown",
      "metadata": {
        "id": "FsqbD9M0W6Bx"
      },
      "source": [
        "**Training a MNIST model with an incorrectly high learning rate**"
      ]
    },
    {
      "cell_type": "code",
      "execution_count": 5,
      "metadata": {
        "colab": {
          "base_uri": "https://localhost:8080/"
        },
        "id": "6JJRN31HW6By",
        "outputId": "09ea6739-d614-459f-ceaf-3c9734fd1358"
      },
      "outputs": [
        {
          "name": "stdout",
          "output_type": "stream",
          "text": [
            "Epoch 1/10\n",
            "375/375 [==============================] - 7s 17ms/step - loss: 1116.0464 - accuracy: 0.3897 - val_loss: 2.1458 - val_accuracy: 0.2442\n",
            "Epoch 2/10\n",
            "375/375 [==============================] - 5s 13ms/step - loss: 3.9145 - accuracy: 0.2771 - val_loss: 2.2239 - val_accuracy: 0.2243\n",
            "Epoch 3/10\n",
            "375/375 [==============================] - 5s 13ms/step - loss: 3.2605 - accuracy: 0.2849 - val_loss: 2.5575 - val_accuracy: 0.2661\n",
            "Epoch 4/10\n",
            "375/375 [==============================] - 5s 12ms/step - loss: 2.8903 - accuracy: 0.2853 - val_loss: 3.1158 - val_accuracy: 0.3061\n",
            "Epoch 5/10\n",
            "375/375 [==============================] - 5s 12ms/step - loss: 2.8509 - accuracy: 0.2664 - val_loss: 3.9353 - val_accuracy: 0.2882\n",
            "Epoch 6/10\n",
            "375/375 [==============================] - 5s 12ms/step - loss: 2.5972 - accuracy: 0.2761 - val_loss: 2.3276 - val_accuracy: 0.2597\n",
            "Epoch 7/10\n",
            "375/375 [==============================] - 5s 12ms/step - loss: 2.7053 - accuracy: 0.2803 - val_loss: 20.8398 - val_accuracy: 0.3055\n",
            "Epoch 8/10\n",
            "375/375 [==============================] - 5s 12ms/step - loss: 2.5891 - accuracy: 0.2870 - val_loss: 2.3591 - val_accuracy: 0.2995\n",
            "Epoch 9/10\n",
            "375/375 [==============================] - 5s 13ms/step - loss: 2.8209 - accuracy: 0.2762 - val_loss: 1.9942 - val_accuracy: 0.2998\n",
            "Epoch 10/10\n",
            "375/375 [==============================] - 5s 13ms/step - loss: 2.6280 - accuracy: 0.3008 - val_loss: 2.2521 - val_accuracy: 0.3169\n"
          ]
        },
        {
          "data": {
            "text/plain": [
              "<keras.callbacks.History at 0x7f2781819bd0>"
            ]
          },
          "execution_count": 5,
          "metadata": {},
          "output_type": "execute_result"
        }
      ],
      "source": [
        "(train_images, train_labels), _ = mnist.load_data()\n",
        "train_images = train_images.reshape((60000, 28 * 28))\n",
        "train_images = train_images.astype(\"float32\") / 255\n",
        "\n",
        "model = keras.Sequential([\n",
        "    layers.Dense(512, activation=\"relu\"),\n",
        "    layers.Dense(10, activation=\"softmax\")\n",
        "])\n",
        "model.compile(optimizer=keras.optimizers.RMSprop(1.),\n",
        "              loss=\"sparse_categorical_crossentropy\",\n",
        "              metrics=[\"accuracy\"])\n",
        "model.fit(train_images, train_labels,\n",
        "          epochs=10,\n",
        "          batch_size=128,\n",
        "          validation_split=0.2)"
      ]
    },
    {
      "cell_type": "markdown",
      "metadata": {
        "id": "FyZ938cFW6By"
      },
      "source": [
        "**The same model with a more appropriate learning rate**"
      ]
    },
    {
      "cell_type": "code",
      "execution_count": 6,
      "metadata": {
        "colab": {
          "base_uri": "https://localhost:8080/"
        },
        "id": "ZMscJWJdW6Bz",
        "outputId": "d89e3219-08fb-4961-a660-f73ad399eff5"
      },
      "outputs": [
        {
          "name": "stdout",
          "output_type": "stream",
          "text": [
            "Epoch 1/10\n",
            "375/375 [==============================] - 5s 13ms/step - loss: 0.3644 - accuracy: 0.9126 - val_loss: 0.1667 - val_accuracy: 0.9545\n",
            "Epoch 2/10\n",
            "375/375 [==============================] - 5s 12ms/step - loss: 0.1424 - accuracy: 0.9645 - val_loss: 0.2390 - val_accuracy: 0.9553\n",
            "Epoch 3/10\n",
            "375/375 [==============================] - 5s 12ms/step - loss: 0.1172 - accuracy: 0.9731 - val_loss: 0.1856 - val_accuracy: 0.9668\n",
            "Epoch 4/10\n",
            "375/375 [==============================] - 5s 12ms/step - loss: 0.1030 - accuracy: 0.9779 - val_loss: 0.1930 - val_accuracy: 0.9698\n",
            "Epoch 5/10\n",
            "375/375 [==============================] - 5s 12ms/step - loss: 0.0821 - accuracy: 0.9832 - val_loss: 0.2368 - val_accuracy: 0.9689\n",
            "Epoch 6/10\n",
            "375/375 [==============================] - 5s 12ms/step - loss: 0.0845 - accuracy: 0.9833 - val_loss: 0.2438 - val_accuracy: 0.9689\n",
            "Epoch 7/10\n",
            "375/375 [==============================] - 5s 12ms/step - loss: 0.0734 - accuracy: 0.9871 - val_loss: 0.2415 - val_accuracy: 0.9741\n",
            "Epoch 8/10\n",
            "375/375 [==============================] - 5s 12ms/step - loss: 0.0634 - accuracy: 0.9887 - val_loss: 0.3165 - val_accuracy: 0.9708\n",
            "Epoch 9/10\n",
            "375/375 [==============================] - 5s 12ms/step - loss: 0.0642 - accuracy: 0.9887 - val_loss: 0.3380 - val_accuracy: 0.9722\n",
            "Epoch 10/10\n",
            "375/375 [==============================] - 5s 12ms/step - loss: 0.0605 - accuracy: 0.9900 - val_loss: 0.3276 - val_accuracy: 0.9721\n"
          ]
        },
        {
          "data": {
            "text/plain": [
              "<keras.callbacks.History at 0x7f2786fa2a10>"
            ]
          },
          "execution_count": 6,
          "metadata": {},
          "output_type": "execute_result"
        }
      ],
      "source": [
        "model = keras.Sequential([\n",
        "    layers.Dense(512, activation=\"relu\"),\n",
        "    layers.Dense(10, activation=\"softmax\")\n",
        "])\n",
        "model.compile(optimizer=keras.optimizers.RMSprop(1e-2),\n",
        "              loss=\"sparse_categorical_crossentropy\",\n",
        "              metrics=[\"accuracy\"])\n",
        "model.fit(train_images, train_labels,\n",
        "          epochs=10,\n",
        "          batch_size=128,\n",
        "          validation_split=0.2)"
      ]
    },
    {
      "cell_type": "markdown",
      "metadata": {
        "id": "M4mTLuV_W6Bz"
      },
      "source": [
        "### Leveraging better architecture priors"
      ]
    },
    {
      "cell_type": "markdown",
      "metadata": {
        "id": "pUhGhdyuW6B0"
      },
      "source": [
        "### Increasing model capacity"
      ]
    },
    {
      "cell_type": "markdown",
      "metadata": {
        "id": "0mukS2-uW6B1"
      },
      "source": [
        "**A simple logistic regression on MNIST**"
      ]
    },
    {
      "cell_type": "code",
      "execution_count": 7,
      "metadata": {
        "colab": {
          "base_uri": "https://localhost:8080/"
        },
        "id": "RkH9gjdAW6B1",
        "outputId": "7ae58179-f7f7-48b8-d256-e9e91ad2dc31"
      },
      "outputs": [
        {
          "name": "stdout",
          "output_type": "stream",
          "text": [
            "Epoch 1/20\n",
            "375/375 [==============================] - 2s 4ms/step - loss: 0.6726 - accuracy: 0.8368 - val_loss: 0.3602 - val_accuracy: 0.9044\n",
            "Epoch 2/20\n",
            "375/375 [==============================] - 1s 4ms/step - loss: 0.3510 - accuracy: 0.9029 - val_loss: 0.3059 - val_accuracy: 0.9150\n",
            "Epoch 3/20\n",
            "375/375 [==============================] - 1s 4ms/step - loss: 0.3153 - accuracy: 0.9122 - val_loss: 0.2911 - val_accuracy: 0.9184\n",
            "Epoch 4/20\n",
            "375/375 [==============================] - 1s 4ms/step - loss: 0.2995 - accuracy: 0.9159 - val_loss: 0.2811 - val_accuracy: 0.9219\n",
            "Epoch 5/20\n",
            "375/375 [==============================] - 2s 5ms/step - loss: 0.2895 - accuracy: 0.9189 - val_loss: 0.2761 - val_accuracy: 0.9227\n",
            "Epoch 6/20\n",
            "375/375 [==============================] - 2s 5ms/step - loss: 0.2830 - accuracy: 0.9212 - val_loss: 0.2707 - val_accuracy: 0.9254\n",
            "Epoch 7/20\n",
            "375/375 [==============================] - 1s 3ms/step - loss: 0.2781 - accuracy: 0.9223 - val_loss: 0.2699 - val_accuracy: 0.9262\n",
            "Epoch 8/20\n",
            "375/375 [==============================] - 1s 4ms/step - loss: 0.2741 - accuracy: 0.9237 - val_loss: 0.2675 - val_accuracy: 0.9266\n",
            "Epoch 9/20\n",
            "375/375 [==============================] - 1s 3ms/step - loss: 0.2713 - accuracy: 0.9244 - val_loss: 0.2647 - val_accuracy: 0.9278\n",
            "Epoch 10/20\n",
            "375/375 [==============================] - 1s 4ms/step - loss: 0.2688 - accuracy: 0.9256 - val_loss: 0.2636 - val_accuracy: 0.9286\n",
            "Epoch 11/20\n",
            "375/375 [==============================] - 1s 3ms/step - loss: 0.2665 - accuracy: 0.9265 - val_loss: 0.2646 - val_accuracy: 0.9277\n",
            "Epoch 12/20\n",
            "375/375 [==============================] - 1s 3ms/step - loss: 0.2649 - accuracy: 0.9271 - val_loss: 0.2632 - val_accuracy: 0.9288\n",
            "Epoch 13/20\n",
            "375/375 [==============================] - 1s 3ms/step - loss: 0.2629 - accuracy: 0.9277 - val_loss: 0.2615 - val_accuracy: 0.9296\n",
            "Epoch 14/20\n",
            "375/375 [==============================] - 1s 3ms/step - loss: 0.2618 - accuracy: 0.9278 - val_loss: 0.2620 - val_accuracy: 0.9298\n",
            "Epoch 15/20\n",
            "375/375 [==============================] - 1s 4ms/step - loss: 0.2603 - accuracy: 0.9287 - val_loss: 0.2638 - val_accuracy: 0.9287\n",
            "Epoch 16/20\n",
            "375/375 [==============================] - 1s 4ms/step - loss: 0.2592 - accuracy: 0.9291 - val_loss: 0.2617 - val_accuracy: 0.9293\n",
            "Epoch 17/20\n",
            "375/375 [==============================] - 1s 4ms/step - loss: 0.2581 - accuracy: 0.9302 - val_loss: 0.2628 - val_accuracy: 0.9293\n",
            "Epoch 18/20\n",
            "375/375 [==============================] - 1s 3ms/step - loss: 0.2572 - accuracy: 0.9299 - val_loss: 0.2610 - val_accuracy: 0.9313\n",
            "Epoch 19/20\n",
            "375/375 [==============================] - 1s 3ms/step - loss: 0.2565 - accuracy: 0.9308 - val_loss: 0.2607 - val_accuracy: 0.9306\n",
            "Epoch 20/20\n",
            "375/375 [==============================] - 1s 3ms/step - loss: 0.2555 - accuracy: 0.9308 - val_loss: 0.2608 - val_accuracy: 0.9303\n"
          ]
        }
      ],
      "source": [
        "model = keras.Sequential([layers.Dense(10, activation=\"softmax\")])\n",
        "model.compile(optimizer=\"rmsprop\",\n",
        "              loss=\"sparse_categorical_crossentropy\",\n",
        "              metrics=[\"accuracy\"])\n",
        "history_small_model = model.fit(\n",
        "    train_images, train_labels,\n",
        "    epochs=20,\n",
        "    batch_size=128,\n",
        "    validation_split=0.2)"
      ]
    },
    {
      "cell_type": "code",
      "execution_count": 8,
      "metadata": {
        "colab": {
          "base_uri": "https://localhost:8080/",
          "height": 312
        },
        "id": "pSccJ6ViW6B1",
        "outputId": "fb02655c-9dbf-44d0-dbfb-82009dcad53c"
      },
      "outputs": [
        {
          "data": {
            "text/plain": [
              "<matplotlib.legend.Legend at 0x7f2782e2ded0>"
            ]
          },
          "execution_count": 8,
          "metadata": {},
          "output_type": "execute_result"
        },
        {
          "data": {
            "image/png": "[encoded data removed]",
            "text/plain": [
              "<Figure size 432x288 with 1 Axes>"
            ]
          },
          "metadata": {
            "needs_background": "light"
          },
          "output_type": "display_data"
        }
      ],
      "source": [
        "import matplotlib.pyplot as plt\n",
        "val_loss = history_small_model.history[\"val_loss\"]\n",
        "epochs = range(1, 21)\n",
        "plt.plot(epochs, val_loss, \"b--\",\n",
        "         label=\"Validation loss\")\n",
        "plt.title(\"Effect of insufficient model capacity on validation loss\")\n",
        "plt.xlabel(\"Epochs\")\n",
        "plt.ylabel(\"Loss\")\n",
        "plt.legend()"
      ]
    },
    {
      "cell_type": "code",
      "execution_count": 9,
      "metadata": {
        "colab": {
          "base_uri": "https://localhost:8080/"
        },
        "id": "_j2cJe1NW6B2",
        "outputId": "7e0db358-5299-4950-8425-6a83043107a0"
      },
      "outputs": [
        {
          "name": "stdout",
          "output_type": "stream",
          "text": [
            "Epoch 1/20\n",
            "375/375 [==============================] - 3s 6ms/step - loss: 0.3551 - accuracy: 0.8993 - val_loss: 0.1731 - val_accuracy: 0.9525\n",
            "Epoch 2/20\n",
            "375/375 [==============================] - 2s 6ms/step - loss: 0.1595 - accuracy: 0.9528 - val_loss: 0.1452 - val_accuracy: 0.9578\n",
            "Epoch 3/20\n",
            "375/375 [==============================] - 2s 6ms/step - loss: 0.1137 - accuracy: 0.9657 - val_loss: 0.1430 - val_accuracy: 0.9587\n",
            "Epoch 4/20\n",
            "375/375 [==============================] - 2s 6ms/step - loss: 0.0879 - accuracy: 0.9736 - val_loss: 0.1164 - val_accuracy: 0.9656\n",
            "Epoch 5/20\n",
            "375/375 [==============================] - 2s 6ms/step - loss: 0.0702 - accuracy: 0.9791 - val_loss: 0.0976 - val_accuracy: 0.9732\n",
            "Epoch 6/20\n",
            "375/375 [==============================] - 2s 6ms/step - loss: 0.0583 - accuracy: 0.9822 - val_loss: 0.0954 - val_accuracy: 0.9745\n",
            "Epoch 7/20\n",
            "375/375 [==============================] - 2s 6ms/step - loss: 0.0486 - accuracy: 0.9856 - val_loss: 0.0954 - val_accuracy: 0.9743\n",
            "Epoch 8/20\n",
            "375/375 [==============================] - 2s 6ms/step - loss: 0.0413 - accuracy: 0.9877 - val_loss: 0.1043 - val_accuracy: 0.9710\n",
            "Epoch 9/20\n",
            "375/375 [==============================] - 2s 6ms/step - loss: 0.0336 - accuracy: 0.9900 - val_loss: 0.0991 - val_accuracy: 0.9748\n",
            "Epoch 10/20\n",
            "375/375 [==============================] - 2s 6ms/step - loss: 0.0293 - accuracy: 0.9909 - val_loss: 0.1024 - val_accuracy: 0.9747\n",
            "Epoch 11/20\n",
            "375/375 [==============================] - 2s 6ms/step - loss: 0.0237 - accuracy: 0.9926 - val_loss: 0.1098 - val_accuracy: 0.9747\n",
            "Epoch 12/20\n",
            "375/375 [==============================] - 2s 6ms/step - loss: 0.0200 - accuracy: 0.9940 - val_loss: 0.1155 - val_accuracy: 0.9741\n",
            "Epoch 13/20\n",
            "375/375 [==============================] - 2s 6ms/step - loss: 0.0179 - accuracy: 0.9947 - val_loss: 0.1156 - val_accuracy: 0.9753\n",
            "Epoch 14/20\n",
            "375/375 [==============================] - 2s 6ms/step - loss: 0.0144 - accuracy: 0.9956 - val_loss: 0.1134 - val_accuracy: 0.9762\n",
            "Epoch 15/20\n",
            "375/375 [==============================] - 2s 6ms/step - loss: 0.0128 - accuracy: 0.9960 - val_loss: 0.1303 - val_accuracy: 0.9741\n",
            "Epoch 16/20\n",
            "375/375 [==============================] - 2s 6ms/step - loss: 0.0104 - accuracy: 0.9966 - val_loss: 0.1237 - val_accuracy: 0.9770\n",
            "Epoch 17/20\n",
            "375/375 [==============================] - 2s 6ms/step - loss: 0.0096 - accuracy: 0.9969 - val_loss: 0.1269 - val_accuracy: 0.9752\n",
            "Epoch 18/20\n",
            "375/375 [==============================] - 2s 6ms/step - loss: 0.0078 - accuracy: 0.9977 - val_loss: 0.1477 - val_accuracy: 0.9728\n",
            "Epoch 19/20\n",
            "375/375 [==============================] - 2s 6ms/step - loss: 0.0069 - accuracy: 0.9978 - val_loss: 0.1361 - val_accuracy: 0.9751\n",
            "Epoch 20/20\n",
            "375/375 [==============================] - 2s 6ms/step - loss: 0.0057 - accuracy: 0.9981 - val_loss: 0.1383 - val_accuracy: 0.9762\n"
          ]
        }
      ],
      "source": [
        "model = keras.Sequential([\n",
        "    layers.Dense(96, activation=\"relu\"),\n",
        "    layers.Dense(96, activation=\"relu\"),\n",
        "    layers.Dense(10, activation=\"softmax\"),\n",
        "])\n",
        "model.compile(optimizer=\"rmsprop\",\n",
        "              loss=\"sparse_categorical_crossentropy\",\n",
        "              metrics=[\"accuracy\"])\n",
        "history_large_model = model.fit(\n",
        "    train_images, train_labels,\n",
        "    epochs=20,\n",
        "    batch_size=128,\n",
        "    validation_split=0.2)"
      ]
    },
    {
      "cell_type": "markdown",
      "metadata": {
        "id": "YVGtoQ94W6B2"
      },
      "source": [
        "## Improving generalization"
      ]
    },
    {
      "cell_type": "markdown",
      "metadata": {
        "id": "uRARoqu5W6B2"
      },
      "source": [
        "### Dataset curation"
      ]
    },
    {
      "cell_type": "markdown",
      "metadata": {
        "id": "znYFBVwYW6B3"
      },
      "source": [
        "### Feature engineering"
      ]
    },
    {
      "cell_type": "markdown",
      "metadata": {
        "id": "EL1cAhfEW6B3"
      },
      "source": [
        "### Using early stopping"
      ]
    },
    {
      "cell_type": "markdown",
      "metadata": {
        "id": "YCXUd3HHW6B3"
      },
      "source": [
        "### Regularizing your model"
      ]
    },
    {
      "cell_type": "markdown",
      "metadata": {
        "id": "xh74NRP1W6B4"
      },
      "source": [
        "#### Reducing the network's size"
      ]
    },
    {
      "cell_type": "markdown",
      "metadata": {
        "id": "JlNq6Pu7W6B4"
      },
      "source": [
        "**Original model**"
      ]
    },
    {
      "cell_type": "code",
      "execution_count": 10,
      "metadata": {
        "colab": {
          "base_uri": "https://localhost:8080/"
        },
        "id": "nndUKnMzW6B4",
        "outputId": "c4e7cac6-449c-445a-e97c-b48d25d3bc7e"
      },
      "outputs": [
        {
          "name": "stdout",
          "output_type": "stream",
          "text": [
            "Downloading data from https://storage.googleapis.com/tensorflow/tf-keras-datasets/imdb.npz\n",
            "17464789/17464789 [==============================] - 0s 0us/step\n",
            "Epoch 1/20\n",
            "30/30 [==============================] - 2s 49ms/step - loss: 0.5324 - accuracy: 0.7737 - val_loss: 0.4080 - val_accuracy: 0.8725\n",
            "Epoch 2/20\n",
            "30/30 [==============================] - 1s 36ms/step - loss: 0.3228 - accuracy: 0.8997 - val_loss: 0.3395 - val_accuracy: 0.8702\n",
            "Epoch 3/20\n",
            "30/30 [==============================] - 1s 39ms/step - loss: 0.2351 - accuracy: 0.9255 - val_loss: 0.2844 - val_accuracy: 0.8916\n",
            "Epoch 4/20\n",
            "30/30 [==============================] - 1s 37ms/step - loss: 0.1895 - accuracy: 0.9396 - val_loss: 0.2731 - val_accuracy: 0.8948\n",
            "Epoch 5/20\n",
            "30/30 [==============================] - 1s 37ms/step - loss: 0.1530 - accuracy: 0.9526 - val_loss: 0.2830 - val_accuracy: 0.8882\n",
            "Epoch 6/20\n",
            "30/30 [==============================] - 1s 37ms/step - loss: 0.1244 - accuracy: 0.9630 - val_loss: 0.3025 - val_accuracy: 0.8835\n",
            "Epoch 7/20\n",
            "30/30 [==============================] - 1s 37ms/step - loss: 0.1040 - accuracy: 0.9687 - val_loss: 0.3481 - val_accuracy: 0.8723\n",
            "Epoch 8/20\n",
            "30/30 [==============================] - 1s 36ms/step - loss: 0.0851 - accuracy: 0.9766 - val_loss: 0.3998 - val_accuracy: 0.8617\n",
            "Epoch 9/20\n",
            "30/30 [==============================] - 1s 37ms/step - loss: 0.0744 - accuracy: 0.9787 - val_loss: 0.3438 - val_accuracy: 0.8806\n",
            "Epoch 10/20\n",
            "30/30 [==============================] - 1s 37ms/step - loss: 0.0614 - accuracy: 0.9839 - val_loss: 0.3652 - val_accuracy: 0.8798\n",
            "Epoch 11/20\n",
            "30/30 [==============================] - 1s 37ms/step - loss: 0.0475 - accuracy: 0.9896 - val_loss: 0.3917 - val_accuracy: 0.8781\n",
            "Epoch 12/20\n",
            "30/30 [==============================] - 1s 36ms/step - loss: 0.0435 - accuracy: 0.9891 - val_loss: 0.4205 - val_accuracy: 0.8747\n",
            "Epoch 13/20\n",
            "30/30 [==============================] - 1s 36ms/step - loss: 0.0336 - accuracy: 0.9930 - val_loss: 0.4509 - val_accuracy: 0.8749\n",
            "Epoch 14/20\n",
            "30/30 [==============================] - 1s 37ms/step - loss: 0.0278 - accuracy: 0.9944 - val_loss: 0.4897 - val_accuracy: 0.8726\n",
            "Epoch 15/20\n",
            "30/30 [==============================] - 1s 36ms/step - loss: 0.0217 - accuracy: 0.9964 - val_loss: 0.5122 - val_accuracy: 0.8732\n",
            "Epoch 16/20\n",
            "30/30 [==============================] - 1s 37ms/step - loss: 0.0178 - accuracy: 0.9969 - val_loss: 0.5484 - val_accuracy: 0.8707\n",
            "Epoch 17/20\n",
            "30/30 [==============================] - 1s 36ms/step - loss: 0.0153 - accuracy: 0.9975 - val_loss: 0.5771 - val_accuracy: 0.8690\n",
            "Epoch 18/20\n",
            "30/30 [==============================] - 1s 36ms/step - loss: 0.0120 - accuracy: 0.9981 - val_loss: 0.6314 - val_accuracy: 0.8673\n",
            "Epoch 19/20\n",
            "30/30 [==============================] - 1s 37ms/step - loss: 0.0106 - accuracy: 0.9983 - val_loss: 0.6492 - val_accuracy: 0.8661\n",
            "Epoch 20/20\n",
            "30/30 [==============================] - 1s 46ms/step - loss: 0.0060 - accuracy: 0.9993 - val_loss: 0.6721 - val_accuracy: 0.8659\n"
          ]
        }
      ],
      "source": [
        "from tensorflow.keras.datasets import imdb\n",
        "(train_data, train_labels), _ = imdb.load_data(num_words=10000)\n",
        "\n",
        "def vectorize_sequences(sequences, dimension=10000):\n",
        "    results = np.zeros((len(sequences), dimension))\n",
        "    for i, sequence in enumerate(sequences):\n",
        "        results[i, sequence] = 1.\n",
        "    return results\n",
        "train_data = vectorize_sequences(train_data)\n",
        "\n",
        "model = keras.Sequential([\n",
        "    layers.Dense(16, activation=\"relu\"),\n",
        "    layers.Dense(16, activation=\"relu\"),\n",
        "    layers.Dense(1, activation=\"sigmoid\")\n",
        "])\n",
        "model.compile(optimizer=\"rmsprop\",\n",
        "              loss=\"binary_crossentropy\",\n",
        "              metrics=[\"accuracy\"])\n",
        "history_original = model.fit(train_data, train_labels,\n",
        "                             epochs=20, batch_size=512, validation_split=0.4)"
      ]
    },
    {
      "cell_type": "markdown",
      "metadata": {
        "id": "Pu-pLQKtW6B4"
      },
      "source": [
        "**Version of the model with lower capacity**"
      ]
    },
    {
      "cell_type": "code",
      "execution_count": 11,
      "metadata": {
        "colab": {
          "base_uri": "https://localhost:8080/"
        },
        "id": "VvBsBmjjW6B5",
        "outputId": "06d19b96-5f70-4dcc-ac0d-44998a184723"
      },
      "outputs": [
        {
          "name": "stdout",
          "output_type": "stream",
          "text": [
            "Epoch 1/20\n",
            "30/30 [==============================] - 2s 47ms/step - loss: 0.6791 - accuracy: 0.6146 - val_loss: 0.6590 - val_accuracy: 0.7043\n",
            "Epoch 2/20\n",
            "30/30 [==============================] - 1s 38ms/step - loss: 0.6366 - accuracy: 0.7283 - val_loss: 0.6227 - val_accuracy: 0.6690\n",
            "Epoch 3/20\n",
            "30/30 [==============================] - 1s 35ms/step - loss: 0.5946 - accuracy: 0.7699 - val_loss: 0.5856 - val_accuracy: 0.7562\n",
            "Epoch 4/20\n",
            "30/30 [==============================] - 1s 34ms/step - loss: 0.5553 - accuracy: 0.8114 - val_loss: 0.5549 - val_accuracy: 0.7857\n",
            "Epoch 5/20\n",
            "30/30 [==============================] - 1s 35ms/step - loss: 0.5201 - accuracy: 0.8385 - val_loss: 0.5279 - val_accuracy: 0.8351\n",
            "Epoch 6/20\n",
            "30/30 [==============================] - 1s 35ms/step - loss: 0.4898 - accuracy: 0.8629 - val_loss: 0.5091 - val_accuracy: 0.8093\n",
            "Epoch 7/20\n",
            "30/30 [==============================] - 1s 34ms/step - loss: 0.4632 - accuracy: 0.8785 - val_loss: 0.4940 - val_accuracy: 0.8143\n",
            "Epoch 8/20\n",
            "30/30 [==============================] - 1s 35ms/step - loss: 0.4398 - accuracy: 0.8929 - val_loss: 0.4740 - val_accuracy: 0.8547\n",
            "Epoch 9/20\n",
            "30/30 [==============================] - 1s 34ms/step - loss: 0.4193 - accuracy: 0.9060 - val_loss: 0.4651 - val_accuracy: 0.8495\n",
            "Epoch 10/20\n",
            "30/30 [==============================] - 1s 35ms/step - loss: 0.4009 - accuracy: 0.9163 - val_loss: 0.4506 - val_accuracy: 0.8743\n",
            "Epoch 11/20\n",
            "30/30 [==============================] - 1s 34ms/step - loss: 0.3845 - accuracy: 0.9271 - val_loss: 0.4452 - val_accuracy: 0.8675\n",
            "Epoch 12/20\n",
            "30/30 [==============================] - 1s 34ms/step - loss: 0.3689 - accuracy: 0.9343 - val_loss: 0.4368 - val_accuracy: 0.8751\n",
            "Epoch 13/20\n",
            "30/30 [==============================] - 1s 34ms/step - loss: 0.3547 - accuracy: 0.9399 - val_loss: 0.4351 - val_accuracy: 0.8697\n",
            "Epoch 14/20\n",
            "30/30 [==============================] - 1s 34ms/step - loss: 0.3412 - accuracy: 0.9457 - val_loss: 0.4399 - val_accuracy: 0.8626\n",
            "Epoch 15/20\n",
            "30/30 [==============================] - 1s 35ms/step - loss: 0.3287 - accuracy: 0.9505 - val_loss: 0.4285 - val_accuracy: 0.8750\n",
            "Epoch 16/20\n",
            "30/30 [==============================] - 1s 35ms/step - loss: 0.3167 - accuracy: 0.9569 - val_loss: 0.4397 - val_accuracy: 0.8638\n",
            "Epoch 17/20\n",
            "30/30 [==============================] - 1s 34ms/step - loss: 0.3056 - accuracy: 0.9605 - val_loss: 0.4288 - val_accuracy: 0.8724\n",
            "Epoch 18/20\n",
            "30/30 [==============================] - 1s 37ms/step - loss: 0.2947 - accuracy: 0.9649 - val_loss: 0.4228 - val_accuracy: 0.8762\n",
            "Epoch 19/20\n",
            "30/30 [==============================] - 1s 34ms/step - loss: 0.2850 - accuracy: 0.9687 - val_loss: 0.4451 - val_accuracy: 0.8645\n",
            "Epoch 20/20\n",
            "30/30 [==============================] - 1s 34ms/step - loss: 0.2751 - accuracy: 0.9730 - val_loss: 0.4235 - val_accuracy: 0.8762\n"
          ]
        }
      ],
      "source": [
        "model = keras.Sequential([\n",
        "    layers.Dense(4, activation=\"relu\"),\n",
        "    layers.Dense(4, activation=\"relu\"),\n",
        "    layers.Dense(1, activation=\"sigmoid\")\n",
        "])\n",
        "model.compile(optimizer=\"rmsprop\",\n",
        "              loss=\"binary_crossentropy\",\n",
        "              metrics=[\"accuracy\"])\n",
        "history_smaller_model = model.fit(\n",
        "    train_data, train_labels,\n",
        "    epochs=20, batch_size=512, validation_split=0.4)"
      ]
    },
    {
      "cell_type": "markdown",
      "metadata": {
        "id": "z_eYu2ZwW6B5"
      },
      "source": [
        "**Version of the model with higher capacity**"
      ]
    },
    {
      "cell_type": "code",
      "execution_count": 12,
      "metadata": {
        "colab": {
          "base_uri": "https://localhost:8080/"
        },
        "id": "eINvcbEYW6B5",
        "outputId": "8eb2eed7-1531-40e6-ac78-36cb516ce4b0"
      },
      "outputs": [
        {
          "name": "stdout",
          "output_type": "stream",
          "text": [
            "Epoch 1/20\n",
            "30/30 [==============================] - 10s 316ms/step - loss: 0.5402 - accuracy: 0.7425 - val_loss: 0.3096 - val_accuracy: 0.8817\n",
            "Epoch 2/20\n",
            "30/30 [==============================] - 9s 301ms/step - loss: 0.2546 - accuracy: 0.8985 - val_loss: 0.2901 - val_accuracy: 0.8853\n",
            "Epoch 3/20\n",
            "30/30 [==============================] - 9s 301ms/step - loss: 0.1627 - accuracy: 0.9351 - val_loss: 0.2734 - val_accuracy: 0.8843\n",
            "Epoch 4/20\n",
            "30/30 [==============================] - 9s 303ms/step - loss: 0.0903 - accuracy: 0.9709 - val_loss: 0.3415 - val_accuracy: 0.8878\n",
            "Epoch 5/20\n",
            "30/30 [==============================] - 9s 304ms/step - loss: 0.0109 - accuracy: 0.9977 - val_loss: 0.6001 - val_accuracy: 0.8720\n",
            "Epoch 6/20\n",
            "30/30 [==============================] - 9s 301ms/step - loss: 0.0016 - accuracy: 0.9998 - val_loss: 0.6371 - val_accuracy: 0.8866\n",
            "Epoch 7/20\n",
            "30/30 [==============================] - 9s 301ms/step - loss: 0.3013 - accuracy: 0.9794 - val_loss: 0.5378 - val_accuracy: 0.8851\n",
            "Epoch 8/20\n",
            "30/30 [==============================] - 10s 332ms/step - loss: 3.5754e-04 - accuracy: 1.0000 - val_loss: 0.6348 - val_accuracy: 0.8854\n",
            "Epoch 9/20\n",
            "30/30 [==============================] - 9s 309ms/step - loss: 1.0285e-04 - accuracy: 1.0000 - val_loss: 0.7242 - val_accuracy: 0.8854\n",
            "Epoch 10/20\n",
            "30/30 [==============================] - 9s 300ms/step - loss: 2.9991e-05 - accuracy: 1.0000 - val_loss: 0.7994 - val_accuracy: 0.8855\n",
            "Epoch 11/20\n",
            "30/30 [==============================] - 9s 300ms/step - loss: 7.7655e-06 - accuracy: 1.0000 - val_loss: 0.8997 - val_accuracy: 0.8858\n",
            "Epoch 12/20\n",
            "30/30 [==============================] - 9s 300ms/step - loss: 2.2329e-06 - accuracy: 1.0000 - val_loss: 0.9821 - val_accuracy: 0.8861\n",
            "Epoch 13/20\n",
            "30/30 [==============================] - 9s 299ms/step - loss: 6.8291e-07 - accuracy: 1.0000 - val_loss: 1.0641 - val_accuracy: 0.8856\n",
            "Epoch 14/20\n",
            "30/30 [==============================] - 9s 297ms/step - loss: 2.4540e-07 - accuracy: 1.0000 - val_loss: 1.1321 - val_accuracy: 0.8850\n",
            "Epoch 15/20\n",
            "30/30 [==============================] - 9s 298ms/step - loss: 9.3042e-08 - accuracy: 1.0000 - val_loss: 1.1960 - val_accuracy: 0.8846\n",
            "Epoch 16/20\n",
            "30/30 [==============================] - 9s 298ms/step - loss: 4.5043e-08 - accuracy: 1.0000 - val_loss: 1.2405 - val_accuracy: 0.8848\n",
            "Epoch 17/20\n",
            "30/30 [==============================] - 9s 297ms/step - loss: 2.6737e-08 - accuracy: 1.0000 - val_loss: 1.2621 - val_accuracy: 0.8850\n",
            "Epoch 18/20\n",
            "30/30 [==============================] - 9s 298ms/step - loss: 1.8243e-08 - accuracy: 1.0000 - val_loss: 1.2853 - val_accuracy: 0.8844\n",
            "Epoch 19/20\n",
            "30/30 [==============================] - 9s 299ms/step - loss: 1.3773e-08 - accuracy: 1.0000 - val_loss: 1.3006 - val_accuracy: 0.8849\n",
            "Epoch 20/20\n",
            "30/30 [==============================] - 9s 298ms/step - loss: 1.1152e-08 - accuracy: 1.0000 - val_loss: 1.3157 - val_accuracy: 0.8843\n"
          ]
        }
      ],
      "source": [
        "model = keras.Sequential([\n",
        "    layers.Dense(512, activation=\"relu\"),\n",
        "    layers.Dense(512, activation=\"relu\"),\n",
        "    layers.Dense(1, activation=\"sigmoid\")\n",
        "])\n",
        "model.compile(optimizer=\"rmsprop\",\n",
        "              loss=\"binary_crossentropy\",\n",
        "              metrics=[\"accuracy\"])\n",
        "history_larger_model = model.fit(\n",
        "    train_data, train_labels,\n",
        "    epochs=20, batch_size=512, validation_split=0.4)"
      ]
    },
    {
      "cell_type": "markdown",
      "metadata": {
        "id": "TLtPfjwXW6B6"
      },
      "source": [
        "#### Adding weight regularization"
      ]
    },
    {
      "cell_type": "markdown",
      "metadata": {
        "id": "v5bh9_evW6B6"
      },
      "source": [
        "**Adding L2 weight regularization to the model**"
      ]
    },
    {
      "cell_type": "code",
      "execution_count": 13,
      "metadata": {
        "colab": {
          "base_uri": "https://localhost:8080/"
        },
        "id": "JX-mPe3FW6B6",
        "outputId": "bbe2b349-9324-49b3-a135-50b349ead852"
      },
      "outputs": [
        {
          "name": "stdout",
          "output_type": "stream",
          "text": [
            "Epoch 1/20\n",
            "30/30 [==============================] - 4s 107ms/step - loss: 0.5980 - accuracy: 0.7785 - val_loss: 0.4628 - val_accuracy: 0.8737\n",
            "Epoch 2/20\n",
            "30/30 [==============================] - 1s 40ms/step - loss: 0.3985 - accuracy: 0.8945 - val_loss: 0.3868 - val_accuracy: 0.8841\n",
            "Epoch 3/20\n",
            "30/30 [==============================] - 1s 40ms/step - loss: 0.3366 - accuracy: 0.9109 - val_loss: 0.3655 - val_accuracy: 0.8871\n",
            "Epoch 4/20\n",
            "30/30 [==============================] - 1s 40ms/step - loss: 0.3002 - accuracy: 0.9242 - val_loss: 0.3533 - val_accuracy: 0.8896\n",
            "Epoch 5/20\n",
            "30/30 [==============================] - 1s 40ms/step - loss: 0.2790 - accuracy: 0.9304 - val_loss: 0.3539 - val_accuracy: 0.8874\n",
            "Epoch 6/20\n",
            "30/30 [==============================] - 1s 40ms/step - loss: 0.2638 - accuracy: 0.9373 - val_loss: 0.3535 - val_accuracy: 0.8874\n",
            "Epoch 7/20\n",
            "30/30 [==============================] - 1s 40ms/step - loss: 0.2518 - accuracy: 0.9416 - val_loss: 0.3554 - val_accuracy: 0.8861\n",
            "Epoch 8/20\n",
            "30/30 [==============================] - 1s 41ms/step - loss: 0.2417 - accuracy: 0.9449 - val_loss: 0.3620 - val_accuracy: 0.8839\n",
            "Epoch 9/20\n",
            "30/30 [==============================] - 1s 39ms/step - loss: 0.2385 - accuracy: 0.9438 - val_loss: 0.3621 - val_accuracy: 0.8855\n",
            "Epoch 10/20\n",
            "30/30 [==============================] - 1s 40ms/step - loss: 0.2251 - accuracy: 0.9515 - val_loss: 0.3670 - val_accuracy: 0.8818\n",
            "Epoch 11/20\n",
            "30/30 [==============================] - 1s 40ms/step - loss: 0.2244 - accuracy: 0.9492 - val_loss: 0.3836 - val_accuracy: 0.8783\n",
            "Epoch 12/20\n",
            "30/30 [==============================] - 1s 40ms/step - loss: 0.2216 - accuracy: 0.9521 - val_loss: 0.3956 - val_accuracy: 0.8754\n",
            "Epoch 13/20\n",
            "30/30 [==============================] - 1s 40ms/step - loss: 0.2118 - accuracy: 0.9536 - val_loss: 0.3793 - val_accuracy: 0.8790\n",
            "Epoch 14/20\n",
            "30/30 [==============================] - 1s 39ms/step - loss: 0.2109 - accuracy: 0.9557 - val_loss: 0.4041 - val_accuracy: 0.8731\n",
            "Epoch 15/20\n",
            "30/30 [==============================] - 1s 40ms/step - loss: 0.2086 - accuracy: 0.9558 - val_loss: 0.4142 - val_accuracy: 0.8712\n",
            "Epoch 16/20\n",
            "30/30 [==============================] - 1s 40ms/step - loss: 0.2100 - accuracy: 0.9529 - val_loss: 0.3981 - val_accuracy: 0.8764\n",
            "Epoch 17/20\n",
            "30/30 [==============================] - 1s 40ms/step - loss: 0.2053 - accuracy: 0.9565 - val_loss: 0.3960 - val_accuracy: 0.8775\n",
            "Epoch 18/20\n",
            "30/30 [==============================] - 2s 70ms/step - loss: 0.2008 - accuracy: 0.9588 - val_loss: 0.4279 - val_accuracy: 0.8703\n",
            "Epoch 19/20\n",
            "30/30 [==============================] - 2s 58ms/step - loss: 0.1953 - accuracy: 0.9613 - val_loss: 0.4132 - val_accuracy: 0.8729\n",
            "Epoch 20/20\n",
            "30/30 [==============================] - 1s 39ms/step - loss: 0.1967 - accuracy: 0.9595 - val_loss: 0.4380 - val_accuracy: 0.8682\n"
          ]
        }
      ],
      "source": [
        "from tensorflow.keras import regularizers\n",
        "model = keras.Sequential([\n",
        "    layers.Dense(16,\n",
        "                 kernel_regularizer=regularizers.l2(0.002),\n",
        "                 activation=\"relu\"),\n",
        "    layers.Dense(16,\n",
        "                 kernel_regularizer=regularizers.l2(0.002),\n",
        "                 activation=\"relu\"),\n",
        "    layers.Dense(1, activation=\"sigmoid\")\n",
        "])\n",
        "model.compile(optimizer=\"rmsprop\",\n",
        "              loss=\"binary_crossentropy\",\n",
        "              metrics=[\"accuracy\"])\n",
        "history_l2_reg = model.fit(\n",
        "    train_data, train_labels,\n",
        "    epochs=20, batch_size=512, validation_split=0.4)"
      ]
    },
    {
      "cell_type": "markdown",
      "metadata": {
        "id": "u4tgp9jCW6B6"
      },
      "source": [
        "**Different weight regularizers available in Keras**"
      ]
    },
    {
      "cell_type": "code",
      "execution_count": 14,
      "metadata": {
        "colab": {
          "base_uri": "https://localhost:8080/"
        },
        "id": "ftyNOgt_W6B6",
        "outputId": "1afb445d-c5c4-4af1-fad4-b69692d0c75d"
      },
      "outputs": [
        {
          "data": {
            "text/plain": [
              "<keras.regularizers.L1L2 at 0x7f277c821110>"
            ]
          },
          "execution_count": 14,
          "metadata": {},
          "output_type": "execute_result"
        }
      ],
      "source": [
        "from tensorflow.keras import regularizers\n",
        "regularizers.l1(0.001)\n",
        "regularizers.l1_l2(l1=0.001, l2=0.001)"
      ]
    },
    {
      "cell_type": "markdown",
      "metadata": {
        "id": "5m9Cl2kPW6B7"
      },
      "source": [
        "#### Adding dropout"
      ]
    },
    {
      "cell_type": "markdown",
      "metadata": {
        "id": "hJFLCiahW6B7"
      },
      "source": [
        "**Adding dropout to the IMDB model**"
      ]
    },
    {
      "cell_type": "code",
      "execution_count": 15,
      "metadata": {
        "colab": {
          "base_uri": "https://localhost:8080/"
        },
        "id": "8khyRWV4W6B7",
        "outputId": "fb9290ac-7f73-49db-b4f3-4086ef1bedff"
      },
      "outputs": [
        {
          "name": "stdout",
          "output_type": "stream",
          "text": [
            "Epoch 1/20\n",
            "30/30 [==============================] - 3s 52ms/step - loss: 0.6386 - accuracy: 0.6237 - val_loss: 0.5176 - val_accuracy: 0.8491\n",
            "Epoch 2/20\n",
            "30/30 [==============================] - 1s 40ms/step - loss: 0.5275 - accuracy: 0.7566 - val_loss: 0.4014 - val_accuracy: 0.8703\n",
            "Epoch 3/20\n",
            "30/30 [==============================] - 1s 40ms/step - loss: 0.4394 - accuracy: 0.8159 - val_loss: 0.3363 - val_accuracy: 0.8833\n",
            "Epoch 4/20\n",
            "30/30 [==============================] - 1s 39ms/step - loss: 0.3721 - accuracy: 0.8593 - val_loss: 0.2948 - val_accuracy: 0.8886\n",
            "Epoch 5/20\n",
            "30/30 [==============================] - 1s 39ms/step - loss: 0.3197 - accuracy: 0.8822 - val_loss: 0.2822 - val_accuracy: 0.8895\n",
            "Epoch 6/20\n",
            "30/30 [==============================] - 1s 39ms/step - loss: 0.2771 - accuracy: 0.9042 - val_loss: 0.2746 - val_accuracy: 0.8923\n",
            "Epoch 7/20\n",
            "30/30 [==============================] - 1s 40ms/step - loss: 0.2437 - accuracy: 0.9167 - val_loss: 0.2938 - val_accuracy: 0.8847\n",
            "Epoch 8/20\n",
            "30/30 [==============================] - 1s 39ms/step - loss: 0.2090 - accuracy: 0.9279 - val_loss: 0.2871 - val_accuracy: 0.8938\n",
            "Epoch 9/20\n",
            "30/30 [==============================] - 1s 39ms/step - loss: 0.1885 - accuracy: 0.9387 - val_loss: 0.2958 - val_accuracy: 0.8938\n",
            "Epoch 10/20\n",
            "30/30 [==============================] - 1s 39ms/step - loss: 0.1674 - accuracy: 0.9439 - val_loss: 0.3292 - val_accuracy: 0.8889\n",
            "Epoch 11/20\n",
            "30/30 [==============================] - 1s 39ms/step - loss: 0.1521 - accuracy: 0.9503 - val_loss: 0.3274 - val_accuracy: 0.8906\n",
            "Epoch 12/20\n",
            "30/30 [==============================] - 1s 41ms/step - loss: 0.1377 - accuracy: 0.9532 - val_loss: 0.3535 - val_accuracy: 0.8882\n",
            "Epoch 13/20\n",
            "30/30 [==============================] - 1s 39ms/step - loss: 0.1204 - accuracy: 0.9611 - val_loss: 0.4083 - val_accuracy: 0.8852\n",
            "Epoch 14/20\n",
            "30/30 [==============================] - 1s 39ms/step - loss: 0.1170 - accuracy: 0.9619 - val_loss: 0.4132 - val_accuracy: 0.8871\n",
            "Epoch 15/20\n",
            "30/30 [==============================] - 1s 39ms/step - loss: 0.1023 - accuracy: 0.9675 - val_loss: 0.4376 - val_accuracy: 0.8870\n",
            "Epoch 16/20\n",
            "30/30 [==============================] - 1s 39ms/step - loss: 0.0956 - accuracy: 0.9674 - val_loss: 0.4480 - val_accuracy: 0.8862\n",
            "Epoch 17/20\n",
            "30/30 [==============================] - 1s 38ms/step - loss: 0.0893 - accuracy: 0.9716 - val_loss: 0.4982 - val_accuracy: 0.8872\n",
            "Epoch 18/20\n",
            "30/30 [==============================] - 1s 39ms/step - loss: 0.0833 - accuracy: 0.9720 - val_loss: 0.5537 - val_accuracy: 0.8835\n",
            "Epoch 19/20\n",
            "30/30 [==============================] - 1s 39ms/step - loss: 0.0821 - accuracy: 0.9730 - val_loss: 0.5555 - val_accuracy: 0.8852\n",
            "Epoch 20/20\n",
            "30/30 [==============================] - 1s 39ms/step - loss: 0.0817 - accuracy: 0.9741 - val_loss: 0.5527 - val_accuracy: 0.8836\n"
          ]
        }
      ],
      "source": [
        "model = keras.Sequential([\n",
        "    layers.Dense(16, activation=\"relu\"),\n",
        "    layers.Dropout(0.5),\n",
        "    layers.Dense(16, activation=\"relu\"),\n",
        "    layers.Dropout(0.5),\n",
        "    layers.Dense(1, activation=\"sigmoid\")\n",
        "])\n",
        "model.compile(optimizer=\"rmsprop\",\n",
        "              loss=\"binary_crossentropy\",\n",
        "              metrics=[\"accuracy\"])\n",
        "history_dropout = model.fit(\n",
        "    train_data, train_labels,\n",
        "    epochs=20, batch_size=512, validation_split=0.4)"
      ]
    }
  ],
  "metadata": {
    "colab": {
      "collapsed_sections": [],
      "name": "chapter05_fundamentals-of-ml.i",
      "provenance": [],
      "toc_visible": true
    },
    "kernelspec": {
      "display_name": "Python 3",
      "language": "python",
      "name": "python3"
    },
    "language_info": {
      "codemirror_mode": {
        "name": "ipython",
        "version": 3
      },
      "file_extension": ".py",
      "mimetype": "text/x-python",
      "name": "python",
      "nbconvert_exporter": "python",
      "pygments_lexer": "ipython3",
      "version": "3.7.0"
    }
  },
  "nbformat": 4,
  "nbformat_minor": 0
}
